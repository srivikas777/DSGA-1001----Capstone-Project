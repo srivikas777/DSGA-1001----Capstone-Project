{
 "cells": [
  {
   "cell_type": "code",
   "execution_count": 1,
   "metadata": {
    "id": "O5r9sogi3VR_"
   },
   "outputs": [],
   "source": [
    "#Importing libraries:\n",
    "import numpy as np\n",
    "import pandas as pd\n",
    "import matplotlib.pyplot as plt\n",
    "from scipy import stats\n",
    "import warnings\n",
    "import seaborn as sns\n",
    "warnings.filterwarnings('ignore')\n",
    "import math\n",
    "from sklearn.cluster import KMeans\n",
    "from xgboost import XGBClassifier\n",
    "from sklearn.model_selection import GridSearchCV\n",
    "from imblearn.over_sampling import SMOTE\n",
    "from sklearn.feature_selection import chi2\n",
    "from sklearn.linear_model import LinearRegression, Lasso, Ridge, LogisticRegression\n",
    "from sklearn.model_selection import train_test_split\n",
    "from sklearn.metrics import accuracy_score,precision_score,recall_score,f1_score,roc_auc_score\n",
    "import heapq\n",
    "from xgboost import XGBClassifier\n",
    "from sklearn.svm import SVC\n",
    "from sklearn import linear_model\n",
    "from sklearn.metrics import mean_squared_error\n",
    "from sklearn.linear_model import Ridge\n",
    "from sklearn.model_selection import train_test_split, GridSearchCV\n",
    "from sklearn.metrics import mean_squared_error\n",
    "from sklearn.ensemble import ExtraTreesClassifier\n",
    "from sklearn.tree import DecisionTreeClassifier\n",
    "from sklearn.ensemble import RandomForestClassifier\n",
    "from sklearn.linear_model import Lasso\n",
    "from numpy import set_printoptions\n",
    "from sklearn.ensemble import AdaBoostClassifier\n",
    "from sklearn.tree import DecisionTreeClassifier\n",
    "from sklearn.feature_selection import SelectKBest\n",
    "from sklearn.feature_selection import f_classif\n",
    "from sklearn.preprocessing import StandardScaler\n",
    "from sklearn.decomposition import PCA\n",
    "from sklearn.metrics import r2_score, mean_squared_error, roc_curve, roc_auc_score, classification_report, accuracy_score\n",
    "from imblearn.over_sampling import RandomOverSampler"
   ]
  },
  {
   "cell_type": "code",
   "execution_count": 8,
   "metadata": {
    "id": "kC4eeuPr3mBR"
   },
   "outputs": [],
   "source": [
    "data=pd.read_csv(\"heart_disease_health_indicators_BRFSS2015.csv\")"
   ]
  },
  {
   "cell_type": "code",
   "execution_count": 9,
   "metadata": {
    "colab": {
     "base_uri": "https://localhost:8080/",
     "height": 300
    },
    "id": "msZodNb538an",
    "outputId": "ffc53229-97ef-4355-8b4f-0b5cdbc8da6b"
   },
   "outputs": [
    {
     "data": {
      "text/html": [
       "\n",
       "  <div id=\"df-0f76e04a-a2f1-4f05-8520-d64fcd064594\">\n",
       "    <div class=\"colab-df-container\">\n",
       "      <div>\n",
       "<style scoped>\n",
       "    .dataframe tbody tr th:only-of-type {\n",
       "        vertical-align: middle;\n",
       "    }\n",
       "\n",
       "    .dataframe tbody tr th {\n",
       "        vertical-align: top;\n",
       "    }\n",
       "\n",
       "    .dataframe thead th {\n",
       "        text-align: right;\n",
       "    }\n",
       "</style>\n",
       "<table border=\"1\" class=\"dataframe\">\n",
       "  <thead>\n",
       "    <tr style=\"text-align: right;\">\n",
       "      <th></th>\n",
       "      <th>HeartDiseaseorAttack</th>\n",
       "      <th>HighBP</th>\n",
       "      <th>HighChol</th>\n",
       "      <th>CholCheck</th>\n",
       "      <th>BMI</th>\n",
       "      <th>Smoker</th>\n",
       "      <th>Stroke</th>\n",
       "      <th>Diabetes</th>\n",
       "      <th>PhysActivity</th>\n",
       "      <th>Fruits</th>\n",
       "      <th>...</th>\n",
       "      <th>AnyHealthcare</th>\n",
       "      <th>NoDocbcCost</th>\n",
       "      <th>GenHlth</th>\n",
       "      <th>MentHlth</th>\n",
       "      <th>PhysHlth</th>\n",
       "      <th>DiffWalk</th>\n",
       "      <th>Sex</th>\n",
       "      <th>Age</th>\n",
       "      <th>Education</th>\n",
       "      <th>Income</th>\n",
       "    </tr>\n",
       "  </thead>\n",
       "  <tbody>\n",
       "    <tr>\n",
       "      <th>0</th>\n",
       "      <td>0.0</td>\n",
       "      <td>1.0</td>\n",
       "      <td>1.0</td>\n",
       "      <td>1.0</td>\n",
       "      <td>40.0</td>\n",
       "      <td>1.0</td>\n",
       "      <td>0.0</td>\n",
       "      <td>0.0</td>\n",
       "      <td>0.0</td>\n",
       "      <td>0.0</td>\n",
       "      <td>...</td>\n",
       "      <td>1.0</td>\n",
       "      <td>0.0</td>\n",
       "      <td>5.0</td>\n",
       "      <td>18.0</td>\n",
       "      <td>15.0</td>\n",
       "      <td>1.0</td>\n",
       "      <td>0.0</td>\n",
       "      <td>9.0</td>\n",
       "      <td>4.0</td>\n",
       "      <td>3.0</td>\n",
       "    </tr>\n",
       "    <tr>\n",
       "      <th>1</th>\n",
       "      <td>0.0</td>\n",
       "      <td>0.0</td>\n",
       "      <td>0.0</td>\n",
       "      <td>0.0</td>\n",
       "      <td>25.0</td>\n",
       "      <td>1.0</td>\n",
       "      <td>0.0</td>\n",
       "      <td>0.0</td>\n",
       "      <td>1.0</td>\n",
       "      <td>0.0</td>\n",
       "      <td>...</td>\n",
       "      <td>0.0</td>\n",
       "      <td>1.0</td>\n",
       "      <td>3.0</td>\n",
       "      <td>0.0</td>\n",
       "      <td>0.0</td>\n",
       "      <td>0.0</td>\n",
       "      <td>0.0</td>\n",
       "      <td>7.0</td>\n",
       "      <td>6.0</td>\n",
       "      <td>1.0</td>\n",
       "    </tr>\n",
       "    <tr>\n",
       "      <th>2</th>\n",
       "      <td>0.0</td>\n",
       "      <td>1.0</td>\n",
       "      <td>1.0</td>\n",
       "      <td>1.0</td>\n",
       "      <td>28.0</td>\n",
       "      <td>0.0</td>\n",
       "      <td>0.0</td>\n",
       "      <td>0.0</td>\n",
       "      <td>0.0</td>\n",
       "      <td>1.0</td>\n",
       "      <td>...</td>\n",
       "      <td>1.0</td>\n",
       "      <td>1.0</td>\n",
       "      <td>5.0</td>\n",
       "      <td>30.0</td>\n",
       "      <td>30.0</td>\n",
       "      <td>1.0</td>\n",
       "      <td>0.0</td>\n",
       "      <td>9.0</td>\n",
       "      <td>4.0</td>\n",
       "      <td>8.0</td>\n",
       "    </tr>\n",
       "    <tr>\n",
       "      <th>3</th>\n",
       "      <td>0.0</td>\n",
       "      <td>1.0</td>\n",
       "      <td>0.0</td>\n",
       "      <td>1.0</td>\n",
       "      <td>27.0</td>\n",
       "      <td>0.0</td>\n",
       "      <td>0.0</td>\n",
       "      <td>0.0</td>\n",
       "      <td>1.0</td>\n",
       "      <td>1.0</td>\n",
       "      <td>...</td>\n",
       "      <td>1.0</td>\n",
       "      <td>0.0</td>\n",
       "      <td>2.0</td>\n",
       "      <td>0.0</td>\n",
       "      <td>0.0</td>\n",
       "      <td>0.0</td>\n",
       "      <td>0.0</td>\n",
       "      <td>11.0</td>\n",
       "      <td>3.0</td>\n",
       "      <td>6.0</td>\n",
       "    </tr>\n",
       "    <tr>\n",
       "      <th>4</th>\n",
       "      <td>0.0</td>\n",
       "      <td>1.0</td>\n",
       "      <td>1.0</td>\n",
       "      <td>1.0</td>\n",
       "      <td>24.0</td>\n",
       "      <td>0.0</td>\n",
       "      <td>0.0</td>\n",
       "      <td>0.0</td>\n",
       "      <td>1.0</td>\n",
       "      <td>1.0</td>\n",
       "      <td>...</td>\n",
       "      <td>1.0</td>\n",
       "      <td>0.0</td>\n",
       "      <td>2.0</td>\n",
       "      <td>3.0</td>\n",
       "      <td>0.0</td>\n",
       "      <td>0.0</td>\n",
       "      <td>0.0</td>\n",
       "      <td>11.0</td>\n",
       "      <td>5.0</td>\n",
       "      <td>4.0</td>\n",
       "    </tr>\n",
       "  </tbody>\n",
       "</table>\n",
       "<p>5 rows × 22 columns</p>\n",
       "</div>\n",
       "      <button class=\"colab-df-convert\" onclick=\"convertToInteractive('df-0f76e04a-a2f1-4f05-8520-d64fcd064594')\"\n",
       "              title=\"Convert this dataframe to an interactive table.\"\n",
       "              style=\"display:none;\">\n",
       "        \n",
       "  <svg xmlns=\"http://www.w3.org/2000/svg\" height=\"24px\"viewBox=\"0 0 24 24\"\n",
       "       width=\"24px\">\n",
       "    <path d=\"M0 0h24v24H0V0z\" fill=\"none\"/>\n",
       "    <path d=\"M18.56 5.44l.94 2.06.94-2.06 2.06-.94-2.06-.94-.94-2.06-.94 2.06-2.06.94zm-11 1L8.5 8.5l.94-2.06 2.06-.94-2.06-.94L8.5 2.5l-.94 2.06-2.06.94zm10 10l.94 2.06.94-2.06 2.06-.94-2.06-.94-.94-2.06-.94 2.06-2.06.94z\"/><path d=\"M17.41 7.96l-1.37-1.37c-.4-.4-.92-.59-1.43-.59-.52 0-1.04.2-1.43.59L10.3 9.45l-7.72 7.72c-.78.78-.78 2.05 0 2.83L4 21.41c.39.39.9.59 1.41.59.51 0 1.02-.2 1.41-.59l7.78-7.78 2.81-2.81c.8-.78.8-2.07 0-2.86zM5.41 20L4 18.59l7.72-7.72 1.47 1.35L5.41 20z\"/>\n",
       "  </svg>\n",
       "      </button>\n",
       "      \n",
       "  <style>\n",
       "    .colab-df-container {\n",
       "      display:flex;\n",
       "      flex-wrap:wrap;\n",
       "      gap: 12px;\n",
       "    }\n",
       "\n",
       "    .colab-df-convert {\n",
       "      background-color: #E8F0FE;\n",
       "      border: none;\n",
       "      border-radius: 50%;\n",
       "      cursor: pointer;\n",
       "      display: none;\n",
       "      fill: #1967D2;\n",
       "      height: 32px;\n",
       "      padding: 0 0 0 0;\n",
       "      width: 32px;\n",
       "    }\n",
       "\n",
       "    .colab-df-convert:hover {\n",
       "      background-color: #E2EBFA;\n",
       "      box-shadow: 0px 1px 2px rgba(60, 64, 67, 0.3), 0px 1px 3px 1px rgba(60, 64, 67, 0.15);\n",
       "      fill: #174EA6;\n",
       "    }\n",
       "\n",
       "    [theme=dark] .colab-df-convert {\n",
       "      background-color: #3B4455;\n",
       "      fill: #D2E3FC;\n",
       "    }\n",
       "\n",
       "    [theme=dark] .colab-df-convert:hover {\n",
       "      background-color: #434B5C;\n",
       "      box-shadow: 0px 1px 3px 1px rgba(0, 0, 0, 0.15);\n",
       "      filter: drop-shadow(0px 1px 2px rgba(0, 0, 0, 0.3));\n",
       "      fill: #FFFFFF;\n",
       "    }\n",
       "  </style>\n",
       "\n",
       "      <script>\n",
       "        const buttonEl =\n",
       "          document.querySelector('#df-0f76e04a-a2f1-4f05-8520-d64fcd064594 button.colab-df-convert');\n",
       "        buttonEl.style.display =\n",
       "          google.colab.kernel.accessAllowed ? 'block' : 'none';\n",
       "\n",
       "        async function convertToInteractive(key) {\n",
       "          const element = document.querySelector('#df-0f76e04a-a2f1-4f05-8520-d64fcd064594');\n",
       "          const dataTable =\n",
       "            await google.colab.kernel.invokeFunction('convertToInteractive',\n",
       "                                                     [key], {});\n",
       "          if (!dataTable) return;\n",
       "\n",
       "          const docLinkHtml = 'Like what you see? Visit the ' +\n",
       "            '<a target=\"_blank\" href=https://colab.research.google.com/notebooks/data_table.ipynb>data table notebook</a>'\n",
       "            + ' to learn more about interactive tables.';\n",
       "          element.innerHTML = '';\n",
       "          dataTable['output_type'] = 'display_data';\n",
       "          await google.colab.output.renderOutput(dataTable, element);\n",
       "          const docLink = document.createElement('div');\n",
       "          docLink.innerHTML = docLinkHtml;\n",
       "          element.appendChild(docLink);\n",
       "        }\n",
       "      </script>\n",
       "    </div>\n",
       "  </div>\n",
       "  "
      ],
      "text/plain": [
       "   HeartDiseaseorAttack  HighBP  HighChol  CholCheck   BMI  Smoker  Stroke  \\\n",
       "0                   0.0     1.0       1.0        1.0  40.0     1.0     0.0   \n",
       "1                   0.0     0.0       0.0        0.0  25.0     1.0     0.0   \n",
       "2                   0.0     1.0       1.0        1.0  28.0     0.0     0.0   \n",
       "3                   0.0     1.0       0.0        1.0  27.0     0.0     0.0   \n",
       "4                   0.0     1.0       1.0        1.0  24.0     0.0     0.0   \n",
       "\n",
       "   Diabetes  PhysActivity  Fruits  ...  AnyHealthcare  NoDocbcCost  GenHlth  \\\n",
       "0       0.0           0.0     0.0  ...            1.0          0.0      5.0   \n",
       "1       0.0           1.0     0.0  ...            0.0          1.0      3.0   \n",
       "2       0.0           0.0     1.0  ...            1.0          1.0      5.0   \n",
       "3       0.0           1.0     1.0  ...            1.0          0.0      2.0   \n",
       "4       0.0           1.0     1.0  ...            1.0          0.0      2.0   \n",
       "\n",
       "   MentHlth  PhysHlth  DiffWalk  Sex   Age  Education  Income  \n",
       "0      18.0      15.0       1.0  0.0   9.0        4.0     3.0  \n",
       "1       0.0       0.0       0.0  0.0   7.0        6.0     1.0  \n",
       "2      30.0      30.0       1.0  0.0   9.0        4.0     8.0  \n",
       "3       0.0       0.0       0.0  0.0  11.0        3.0     6.0  \n",
       "4       3.0       0.0       0.0  0.0  11.0        5.0     4.0  \n",
       "\n",
       "[5 rows x 22 columns]"
      ]
     },
     "execution_count": 9,
     "metadata": {},
     "output_type": "execute_result"
    }
   ],
   "source": [
    "data.head()"
   ]
  },
  {
   "cell_type": "code",
   "execution_count": 10,
   "metadata": {
    "colab": {
     "base_uri": "https://localhost:8080/"
    },
    "id": "bvc8arbv50Dd",
    "outputId": "beeecd38-f4f5-4ffe-e6f5-6ce779807572"
   },
   "outputs": [
    {
     "name": "stdout",
     "output_type": "stream",
     "text": [
      "(253680, 22)\n"
     ]
    }
   ],
   "source": [
    "print(data.shape)"
   ]
  },
  {
   "cell_type": "code",
   "execution_count": 11,
   "metadata": {
    "colab": {
     "base_uri": "https://localhost:8080/"
    },
    "id": "Xh39OZic4BTg",
    "outputId": "ca6ee651-f672-4818-c85f-2d369972511e"
   },
   "outputs": [
    {
     "data": {
      "text/plain": [
       "['HeartDiseaseorAttack',\n",
       " 'HighBP',\n",
       " 'HighChol',\n",
       " 'CholCheck',\n",
       " 'BMI',\n",
       " 'Smoker',\n",
       " 'Stroke',\n",
       " 'Diabetes',\n",
       " 'PhysActivity',\n",
       " 'Fruits',\n",
       " 'Veggies',\n",
       " 'HvyAlcoholConsump',\n",
       " 'AnyHealthcare',\n",
       " 'NoDocbcCost',\n",
       " 'GenHlth',\n",
       " 'MentHlth',\n",
       " 'PhysHlth',\n",
       " 'DiffWalk',\n",
       " 'Sex',\n",
       " 'Age',\n",
       " 'Education',\n",
       " 'Income']"
      ]
     },
     "execution_count": 11,
     "metadata": {},
     "output_type": "execute_result"
    }
   ],
   "source": [
    "list(data.columns)"
   ]
  },
  {
   "cell_type": "code",
   "execution_count": 12,
   "metadata": {
    "colab": {
     "base_uri": "https://localhost:8080/"
    },
    "id": "L9Qhvzjs_Yad",
    "outputId": "786a8c55-632a-4cef-9848-49f94af3485d"
   },
   "outputs": [
    {
     "data": {
      "text/plain": [
       "HeartDiseaseorAttack    0\n",
       "HighBP                  0\n",
       "HighChol                0\n",
       "CholCheck               0\n",
       "BMI                     0\n",
       "Smoker                  0\n",
       "Stroke                  0\n",
       "Diabetes                0\n",
       "PhysActivity            0\n",
       "Fruits                  0\n",
       "Veggies                 0\n",
       "HvyAlcoholConsump       0\n",
       "AnyHealthcare           0\n",
       "NoDocbcCost             0\n",
       "GenHlth                 0\n",
       "MentHlth                0\n",
       "PhysHlth                0\n",
       "DiffWalk                0\n",
       "Sex                     0\n",
       "Age                     0\n",
       "Education               0\n",
       "Income                  0\n",
       "dtype: int64"
      ]
     },
     "execution_count": 12,
     "metadata": {},
     "output_type": "execute_result"
    }
   ],
   "source": [
    "data.isnull().sum()"
   ]
  },
  {
   "cell_type": "markdown",
   "metadata": {
    "id": "J8VYsFc7thc7"
   },
   "source": [
    "#### For Handling the Outliers: We will be using Turkey's Method for filtering out the outliers!"
   ]
  },
  {
   "cell_type": "code",
   "execution_count": 13,
   "metadata": {
    "id": "maYpEb_-AU2a"
   },
   "outputs": [],
   "source": [
    "# Turkey method for Handling the Outliers:\n",
    "def turkey_method(df,col_name):\n",
    "  q1=df[col_name].quantile(0.75)\n",
    "  q3=df[col_name].quantile(0.25)\n",
    "  IQR=q3-q1\n",
    "  min_value=q3+1.5*IQR\n",
    "  max_value=q1-1.5*IQR\n",
    "  print(max_value)\n",
    "  print(min_value)\n",
    "  return df[(df[col_name]<max_value)&(df[col_name]>min_value)]"
   ]
  },
  {
   "cell_type": "code",
   "execution_count": 14,
   "metadata": {
    "colab": {
     "base_uri": "https://localhost:8080/"
    },
    "id": "a4jQveNMAb-o",
    "outputId": "052f1c6b-7039-440b-ee18-edf6a2e806fa"
   },
   "outputs": [
    {
     "name": "stdout",
     "output_type": "stream",
     "text": [
      "41.5\n",
      "13.5\n"
     ]
    }
   ],
   "source": [
    "# Performing the Turkey Method for \"BMI column\":\n",
    "data=turkey_method(data,'BMI')"
   ]
  },
  {
   "cell_type": "code",
   "execution_count": 15,
   "metadata": {
    "colab": {
     "base_uri": "https://localhost:8080/"
    },
    "id": "ANCtzwD6AdGR",
    "outputId": "1ccab63b-6a7a-4fff-faa0-3286b0266533"
   },
   "outputs": [
    {
     "data": {
      "text/plain": [
       "(243833, 22)"
      ]
     },
     "execution_count": 15,
     "metadata": {},
     "output_type": "execute_result"
    }
   ],
   "source": [
    "data.shape"
   ]
  },
  {
   "cell_type": "code",
   "execution_count": 16,
   "metadata": {
    "id": "4JjpbEO-CbkB"
   },
   "outputs": [],
   "source": [
    "target='HeartDiseaseorAttack'"
   ]
  },
  {
   "cell_type": "code",
   "execution_count": 17,
   "metadata": {
    "colab": {
     "base_uri": "https://localhost:8080/"
    },
    "id": "LBZseXSiCvwd",
    "outputId": "c879e72e-c615-4509-e359-6c50740dace9"
   },
   "outputs": [
    {
     "data": {
      "text/plain": [
       "{0.0, 1.0}"
      ]
     },
     "execution_count": 17,
     "metadata": {},
     "output_type": "execute_result"
    }
   ],
   "source": [
    "set(data['Sex'])"
   ]
  },
  {
   "cell_type": "code",
   "execution_count": 18,
   "metadata": {
    "id": "6kQpZC_QCrR4"
   },
   "outputs": [],
   "source": [
    "def helper(col):\n",
    "  \"\"\"\n",
    "  This helper function takes a column as an input, and returns the number of distinct elements present in that column.\n",
    "  \"\"\"\n",
    "  return len(set(data[col]))"
   ]
  },
  {
   "cell_type": "markdown",
   "metadata": {
    "id": "ILozCIaZtxZ_"
   },
   "source": [
    "#### Plotting the Difference with the Target Variable and all the other features that are selected for model analysis and predictions:"
   ]
  },
  {
   "cell_type": "code",
   "execution_count": 19,
   "metadata": {
    "colab": {
     "base_uri": "https://localhost:8080/",
     "height": 1000
    },
    "id": "Qy_tivhYAdQV",
    "outputId": "4ccabe3a-7295-4424-b93e-810c6d3a837d"
   },
   "outputs": [
    {
     "data": {
      "image/png": "[encoded data removed]",
      "text/plain": [
       "<Figure size 2880x4320 with 22 Axes>"
      ]
     },
     "metadata": {
      "needs_background": "light"
     },
     "output_type": "display_data"
    }
   ],
   "source": [
    "fig,ax=plt.subplots(11,2,figsize = (40,60))\n",
    "i=0\n",
    "row = 0\n",
    "col = 0\n",
    "for col in data.columns:\n",
    "  if(col!=target):\n",
    "    r = int(i/2)\n",
    "    c = i % 2\n",
    "    if(helper(col)>2):\n",
    "      sns.scatterplot(data[target],data[col],ax=ax[r][c])\n",
    "    if(helper(col)<=2):\n",
    "      sns.barplot(data[target],data[col],ax=ax[r][c])\n",
    "    i=i+1\n",
    "            \n",
    "plt.show()\n",
    "            "
   ]
  },
  {
   "cell_type": "code",
   "execution_count": 20,
   "metadata": {
    "colab": {
     "base_uri": "https://localhost:8080/",
     "height": 386
    },
    "id": "_HvBZS-IAdX9",
    "outputId": "612a1d4b-9e72-49ac-ba41-f2032aea3ccb"
   },
   "outputs": [
    {
     "data": {
      "text/plain": [
       "<matplotlib.axes._subplots.AxesSubplot at 0x7f56fda7e670>"
      ]
     },
     "execution_count": 20,
     "metadata": {},
     "output_type": "execute_result"
    },
    {
     "data": {
      "image/png": "[encoded data removed]",
      "text/plain": [
       "<Figure size 432x288 with 2 Axes>"
      ]
     },
     "metadata": {
      "needs_background": "light"
     },
     "output_type": "display_data"
    }
   ],
   "source": [
    "sns.heatmap(data.corr())"
   ]
  },
  {
   "cell_type": "code",
   "execution_count": 21,
   "metadata": {
    "colab": {
     "base_uri": "https://localhost:8080/"
    },
    "id": "Smh9nwAkEBL3",
    "outputId": "634f40ae-e6ca-474f-ae2c-e8dc56acb1e7"
   },
   "outputs": [
    {
     "data": {
      "text/plain": [
       "HeartDiseaseorAttack    1.000000\n",
       "HighBP                  0.210028\n",
       "HighChol                0.180948\n",
       "CholCheck               0.044471\n",
       "BMI                     0.059427\n",
       "Smoker                  0.115071\n",
       "Stroke                  0.202358\n",
       "Diabetes                0.179471\n",
       "PhysActivity           -0.085669\n",
       "Fruits                 -0.019103\n",
       "Veggies                -0.038839\n",
       "HvyAlcoholConsump      -0.028775\n",
       "AnyHealthcare           0.018784\n",
       "NoDocbcCost             0.029774\n",
       "GenHlth                 0.259346\n",
       "MentHlth                0.062080\n",
       "PhysHlth                0.179894\n",
       "DiffWalk                0.212310\n",
       "Sex                     0.087377\n",
       "Age                     0.223664\n",
       "Education              -0.099331\n",
       "Income                 -0.139498\n",
       "Name: HeartDiseaseorAttack, dtype: float64"
      ]
     },
     "execution_count": 21,
     "metadata": {},
     "output_type": "execute_result"
    }
   ],
   "source": [
    "correlation_matrix=data.corr()\n",
    "correlation_matrix.iloc[0,:]"
   ]
  },
  {
   "cell_type": "code",
   "execution_count": 22,
   "metadata": {
    "colab": {
     "base_uri": "https://localhost:8080/"
    },
    "id": "FDrPtjX-EBpc",
    "outputId": "a72a360d-c5e3-42d6-9c2c-b77e1b3c8cc7"
   },
   "outputs": [
    {
     "data": {
      "text/plain": [
       "{'HeartDiseaseorAttack': 1.0,\n",
       " 'HighBP': 0.21002834835397777,\n",
       " 'HighChol': 0.1809480537724005,\n",
       " 'CholCheck': 0.044470924746625735,\n",
       " 'BMI': 0.059427065026406246,\n",
       " 'Smoker': 0.11507143733608964,\n",
       " 'Stroke': 0.20235841997251933,\n",
       " 'Diabetes': 0.17947119438501202,\n",
       " 'PhysActivity': -0.08566855164323967,\n",
       " 'Fruits': -0.019103037011940476,\n",
       " 'Veggies': -0.038839223457698864,\n",
       " 'HvyAlcoholConsump': -0.028775448193560767,\n",
       " 'AnyHealthcare': 0.018784103682673907,\n",
       " 'NoDocbcCost': 0.029774418128805016,\n",
       " 'GenHlth': 0.2593458537986838,\n",
       " 'MentHlth': 0.062080155151269446,\n",
       " 'PhysHlth': 0.1798940343188655,\n",
       " 'DiffWalk': 0.21231004004546283,\n",
       " 'Sex': 0.08737716676554416,\n",
       " 'Age': 0.22366387850999056,\n",
       " 'Education': -0.09933106087541833,\n",
       " 'Income': -0.13949829116006715}"
      ]
     },
     "execution_count": 22,
     "metadata": {},
     "output_type": "execute_result"
    }
   ],
   "source": [
    "correlation_target=correlation_matrix.iloc[0,:]\n",
    "correlation_target=dict(correlation_target)\n",
    "correlation_target"
   ]
  },
  {
   "cell_type": "code",
   "execution_count": 23,
   "metadata": {
    "id": "JRTG5Asv8jhg"
   },
   "outputs": [],
   "source": [
    "cols=list(data.columns)"
   ]
  },
  {
   "cell_type": "code",
   "execution_count": 24,
   "metadata": {
    "colab": {
     "base_uri": "https://localhost:8080/"
    },
    "id": "n09PVJ1B7Rke",
    "outputId": "86df39bb-0ac6-44b3-a5b7-936cd5bbaa6a"
   },
   "outputs": [
    {
     "name": "stdout",
     "output_type": "stream",
     "text": [
      "Top 10 features:\n",
      "Feature 15 - MentHlth: 141675.20244358684\n",
      "Feature 14 - GenHlth: 16188.368845589546\n",
      "Feature 18 - Sex: 14205.454480177166\n",
      "Feature 6 - Stroke: 13008.732769847016\n",
      "Feature 5 - Smoker: 9584.097097809921\n",
      "Feature 16 - PhysHlth: 9266.09130050449\n",
      "Feature 13 - NoDocbcCost: 7416.897230372131\n",
      "Feature 0 - HeartDiseaseorAttack: 6236.938434700895\n",
      "Feature 1 - HighBP: 4614.325245056894\n",
      "Feature 20 - Education: 3287.3901890544007\n"
     ]
    }
   ],
   "source": [
    "# Select the top k features\n",
    "k = 10 # Let's say we start with 10\n",
    "predictors=[col for col in cols if col!=target]\n",
    "X=data[predictors]\n",
    "y=data[target]\n",
    "chi2_scores, p_values = chi2(X, y)\n",
    "top_k_indices = chi2_scores.argsort()[-k:][::-1]\n",
    "\n",
    "# Print the top k features\n",
    "print(f'Top {k} features:')\n",
    "for i in top_k_indices:\n",
    "    print(f'Feature {i} - {cols[i]}: {chi2_scores[i]}')"
   ]
  },
  {
   "cell_type": "code",
   "execution_count": 25,
   "metadata": {
    "id": "m6Og5k1IEBzG"
   },
   "outputs": [],
   "source": [
    "# These are all the Predictor Variables! After conparing both the Chi-square and coorelation matrix, as Chi-Square can only help us understand if the features are  similar but it cannot really quantify the similarity.\n",
    "columns_important=['HighBP', 'HighChol', 'Smoker', 'Stroke', 'Diabetes', 'GenHlth', 'PhysHlth','DiffWalk', 'Age']"
   ]
  },
  {
   "cell_type": "code",
   "execution_count": 26,
   "metadata": {
    "id": "FvvQsr3G96rQ"
   },
   "outputs": [],
   "source": [
    "X=data[columns_important]\n",
    "y=data['HeartDiseaseorAttack']"
   ]
  },
  {
   "cell_type": "code",
   "execution_count": 27,
   "metadata": {
    "id": "f9xAmaolGXvP"
   },
   "outputs": [],
   "source": [
    "x_train,x_test,y_train,y_test=train_test_split(X, y, test_size=0.2, random_state=14628513)"
   ]
  },
  {
   "cell_type": "code",
   "execution_count": 28,
   "metadata": {
    "colab": {
     "base_uri": "https://localhost:8080/"
    },
    "id": "KqNwo3ThGZW0",
    "outputId": "d6c3e1f9-fda9-44ea-b1f0-c4ebcbb54c6f"
   },
   "outputs": [
    {
     "data": {
      "text/plain": [
       "(195066, 9)"
      ]
     },
     "execution_count": 28,
     "metadata": {},
     "output_type": "execute_result"
    }
   ],
   "source": [
    "x_train.shape"
   ]
  },
  {
   "cell_type": "code",
   "execution_count": 29,
   "metadata": {
    "colab": {
     "base_uri": "https://localhost:8080/"
    },
    "id": "05-LLcaxGa37",
    "outputId": "d495f7fe-8e46-4ba1-a8b3-a617c6c70bf6"
   },
   "outputs": [
    {
     "data": {
      "text/plain": [
       "(195066,)"
      ]
     },
     "execution_count": 29,
     "metadata": {},
     "output_type": "execute_result"
    }
   ],
   "source": [
    "y_train.shape"
   ]
  },
  {
   "cell_type": "code",
   "execution_count": 30,
   "metadata": {
    "id": "N-kgSfa6GhxF"
   },
   "outputs": [],
   "source": [
    "# Performing the PCA: For reducing the Dimensionality reduction:\n",
    "# First we need to scale the data to perform the PCA: So, we will be using standered scaler!\n",
    "\n",
    "#Scaling Data - Standard Sclaer before PCA\n",
    "scaler_heart_data = StandardScaler()\n",
    "scaler_heart_data.fit(x_train)\n",
    "x_train_PCA = scaler_heart_data.transform(x_train)\n",
    "x_test_PCA = scaler_heart_data.transform(x_test)"
   ]
  },
  {
   "cell_type": "code",
   "execution_count": 31,
   "metadata": {
    "id": "7WrI5rHANTZB"
   },
   "outputs": [],
   "source": [
    "# Performing the PCA Step after the standered scaling part:\n",
    "pca = PCA(n_components=0.8)\n",
    "pca.fit(x_train_PCA)\n",
    "len(pca.components_)\n",
    "x_train_std_pca = pca.transform(x_train_PCA)\n",
    "x_test_std_pca = pca.transform(x_test_PCA)"
   ]
  },
  {
   "cell_type": "code",
   "execution_count": 32,
   "metadata": {
    "colab": {
     "base_uri": "https://localhost:8080/"
    },
    "id": "r4b5wIfINkX8",
    "outputId": "07d88355-82ce-48f3-d1ad-f50873642eb7"
   },
   "outputs": [
    {
     "data": {
      "text/plain": [
       "array([[-0.53727703,  0.97631042, -1.23518594, -0.12035883,  0.39218475,\n",
       "        -0.16054282],\n",
       "       [ 0.17871151, -0.97899872,  0.85004265, -0.30223464, -0.55609186,\n",
       "         0.9624549 ],\n",
       "       [ 2.2347245 ,  1.94998234,  0.88132711, -0.61343428, -2.03491989,\n",
       "         0.71721283],\n",
       "       ...,\n",
       "       [ 1.13338261,  0.27805907, -1.08016888, -0.3396818 , -0.19000395,\n",
       "        -0.92135748],\n",
       "       [-0.63541862, -0.0627344 ,  0.47343651,  0.16548094, -0.64961742,\n",
       "        -1.02700745],\n",
       "       [ 0.64602781, -1.1191026 , -1.0746659 , -0.35287759, -0.13532259,\n",
       "         0.8298431 ]])"
      ]
     },
     "execution_count": 32,
     "metadata": {},
     "output_type": "execute_result"
    }
   ],
   "source": [
    "x_train_std_pca"
   ]
  },
  {
   "cell_type": "code",
   "execution_count": 33,
   "metadata": {
    "id": "ATvh3vbeNvuQ"
   },
   "outputs": [],
   "source": [
    "#Oversampling data:\n",
    "oversample = RandomOverSampler(sampling_strategy=0.5)\n",
    "x_over, y_over = oversample.fit_resample(x_train, y_train)\n",
    "x_oversampled_pca, y_oversampled_pca = oversample.fit_resample(x_train_std_pca, y_train)"
   ]
  },
  {
   "cell_type": "code",
   "execution_count": 34,
   "metadata": {
    "colab": {
     "base_uri": "https://localhost:8080/"
    },
    "id": "Fj658h04OXwf",
    "outputId": "af3ba633-543f-4e01-ebcc-463b23997cd0"
   },
   "outputs": [
    {
     "data": {
      "text/plain": [
       "array([[-0.53727703,  0.97631042, -1.23518594, -0.12035883,  0.39218475,\n",
       "        -0.16054282],\n",
       "       [ 0.17871151, -0.97899872,  0.85004265, -0.30223464, -0.55609186,\n",
       "         0.9624549 ],\n",
       "       [ 2.2347245 ,  1.94998234,  0.88132711, -0.61343428, -2.03491989,\n",
       "         0.71721283],\n",
       "       ...,\n",
       "       [-0.30047239, -0.42721621,  0.61862729, -0.15692905, -0.65931326,\n",
       "         1.07928386],\n",
       "       [ 3.296846  , -1.71092881, -0.04906383,  4.02166735,  2.38862016,\n",
       "         0.44605077],\n",
       "       [ 2.4633945 , -0.5389802 , -0.7866697 ,  4.36056521,  0.47669712,\n",
       "         1.40696846]])"
      ]
     },
     "execution_count": 34,
     "metadata": {},
     "output_type": "execute_result"
    }
   ],
   "source": [
    "x_oversampled_pca"
   ]
  },
  {
   "cell_type": "markdown",
   "metadata": {
    "id": "rDQHzhltOyqy"
   },
   "source": [
    "### Logistic Regression Algorithm:"
   ]
  },
  {
   "cell_type": "code",
   "execution_count": 35,
   "metadata": {
    "colab": {
     "base_uri": "https://localhost:8080/"
    },
    "id": "sdm-txpmOZQL",
    "outputId": "6cf4bbd0-9a86-41fb-f608-4d2cd1fc0f5a"
   },
   "outputs": [
    {
     "name": "stdout",
     "output_type": "stream",
     "text": [
      "Train Data Score: 0.18030755106724813\n",
      "Test Data Score: 0.19105243857719106\n"
     ]
    }
   ],
   "source": [
    "clf_non = LogisticRegression(solver='liblinear')\n",
    "clf_non.fit(x_train,y_train)\n",
    "print(f'Train Data Score: {f1_score(clf_non.predict(x_train),y_train)}')\n",
    "print(f'Test Data Score: {f1_score(clf_non.predict(x_test),y_test)}')"
   ]
  },
  {
   "cell_type": "markdown",
   "metadata": {
    "id": "bsNF8QZvPik2"
   },
   "source": [
    "This will be the results for Data without PCA:"
   ]
  },
  {
   "cell_type": "code",
   "execution_count": 36,
   "metadata": {
    "colab": {
     "base_uri": "https://localhost:8080/"
    },
    "id": "rWO3IcBdPBBA",
    "outputId": "cc824787-d707-4f3c-8810-101eba735cc3"
   },
   "outputs": [
    {
     "name": "stdout",
     "output_type": "stream",
     "text": [
      "              precision    recall  f1-score   support\n",
      "\n",
      "         0.0       0.92      0.99      0.95     44254\n",
      "         1.0       0.55      0.12      0.19      4513\n",
      "\n",
      "    accuracy                           0.91     48767\n",
      "   macro avg       0.74      0.55      0.57     48767\n",
      "weighted avg       0.88      0.91      0.88     48767\n",
      "\n",
      "0.9095289847642873\n"
     ]
    }
   ],
   "source": [
    "prediction = clf_non.predict(x_test)\n",
    "print(classification_report(y_test, prediction))\n",
    "score = clf_non.score(x_test, y_test)\n",
    "print(score)"
   ]
  },
  {
   "cell_type": "markdown",
   "metadata": {
    "id": "U9twLzCpTNh3"
   },
   "source": [
    "The following will be the results with PCA:\n",
    "\n"
   ]
  },
  {
   "cell_type": "code",
   "execution_count": 37,
   "metadata": {
    "colab": {
     "base_uri": "https://localhost:8080/"
    },
    "id": "eiDbkXUxPMHK",
    "outputId": "84cc61b5-e545-4a3b-985f-875253e29204"
   },
   "outputs": [
    {
     "name": "stdout",
     "output_type": "stream",
     "text": [
      "Train Data Score: 0.390026541643257\n",
      "Test Data Score: 0.3962729092869244\n"
     ]
    }
   ],
   "source": [
    "clf_pca = LogisticRegression(solver='liblinear')\n",
    "clf_pca.fit(x_oversampled_pca,y_oversampled_pca)\n",
    "print(f'Train Data Score: {f1_score(clf_pca.predict(x_train_std_pca),y_train)}')\n",
    "print(f'Test Data Score: {f1_score(clf_pca.predict(x_test_std_pca),y_test)}')"
   ]
  },
  {
   "cell_type": "code",
   "execution_count": 38,
   "metadata": {
    "colab": {
     "base_uri": "https://localhost:8080/"
    },
    "id": "8-j1-I13UFss",
    "outputId": "35b067b2-319f-4944-b494-1f7370947828"
   },
   "outputs": [
    {
     "name": "stdout",
     "output_type": "stream",
     "text": [
      "              precision    recall  f1-score   support\n",
      "\n",
      "         0.0       0.95      0.87      0.91     44254\n",
      "         1.0       0.30      0.57      0.40      4513\n",
      "\n",
      "    accuracy                           0.84     48767\n",
      "   macro avg       0.63      0.72      0.65     48767\n",
      "weighted avg       0.89      0.84      0.86     48767\n",
      "\n",
      "0.839235548629196\n"
     ]
    }
   ],
   "source": [
    "prediction = clf_pca.predict(x_test_std_pca)\n",
    "print(classification_report(y_test, prediction))\n",
    "score = clf_pca.score(x_test_std_pca, y_test)\n",
    "print(score)"
   ]
  },
  {
   "cell_type": "markdown",
   "metadata": {
    "id": "m_Kxz4dNU6B2"
   },
   "source": [
    "### Decision Tree Classifier Algorithm:"
   ]
  },
  {
   "cell_type": "code",
   "execution_count": 39,
   "metadata": {
    "colab": {
     "base_uri": "https://localhost:8080/"
    },
    "id": "28WMDTQ2U_gX",
    "outputId": "735247e7-c708-4d19-ec6d-1e848baec228"
   },
   "outputs": [
    {
     "name": "stdout",
     "output_type": "stream",
     "text": [
      "Train Data Score: 0.3574281664733926\n",
      "Test Data Score: 0.1863041289023162\n"
     ]
    }
   ],
   "source": [
    "clf_non_tree = DecisionTreeClassifier()\n",
    "clf_non_tree.fit(x_train,y_train)\n",
    "print(f'Train Data Score: {f1_score(clf_non_tree.predict(x_train),y_train)}')\n",
    "print(f'Test Data Score: {f1_score(clf_non_tree.predict(x_test),y_test)}')"
   ]
  },
  {
   "cell_type": "code",
   "execution_count": 40,
   "metadata": {
    "colab": {
     "base_uri": "https://localhost:8080/"
    },
    "id": "5WqZsHvFVPWV",
    "outputId": "a4752c89-dae3-4961-be5c-b1a865f1839b"
   },
   "outputs": [
    {
     "name": "stdout",
     "output_type": "stream",
     "text": [
      "              precision    recall  f1-score   support\n",
      "\n",
      "         0.0       0.92      0.98      0.95     44254\n",
      "         1.0       0.38      0.12      0.19      4513\n",
      "\n",
      "    accuracy                           0.90     48767\n",
      "   macro avg       0.65      0.55      0.57     48767\n",
      "weighted avg       0.87      0.90      0.88     48767\n",
      "\n",
      "0.9005885127237682\n"
     ]
    }
   ],
   "source": [
    "prediction = clf_non_tree.predict(x_test)\n",
    "print(classification_report(y_test, prediction))\n",
    "score = clf_non_tree.score(x_test, y_test)\n",
    "print(score)"
   ]
  },
  {
   "cell_type": "markdown",
   "metadata": {
    "id": "Z_bvTnfhVe9S"
   },
   "source": [
    "This will be the results for Data With PCA:"
   ]
  },
  {
   "cell_type": "code",
   "execution_count": 41,
   "metadata": {
    "colab": {
     "base_uri": "https://localhost:8080/"
    },
    "id": "1xAdbegHVfkg",
    "outputId": "adf5fed0-8619-40e7-d2d3-f80334b20447"
   },
   "outputs": [
    {
     "name": "stdout",
     "output_type": "stream",
     "text": [
      "Train Data Score: 0.4847895329099198\n",
      "Test Data Score: 0.36098603373273297\n"
     ]
    }
   ],
   "source": [
    "clf_tree_pca = DecisionTreeClassifier()\n",
    "clf_tree_pca.fit(x_oversampled_pca,y_oversampled_pca)\n",
    "print(f'Train Data Score: {f1_score(clf_tree_pca.predict(x_train_std_pca),y_train)}')\n",
    "print(f'Test Data Score: {f1_score(clf_tree_pca.predict(x_test_std_pca),y_test)}')"
   ]
  },
  {
   "cell_type": "code",
   "execution_count": 42,
   "metadata": {
    "colab": {
     "base_uri": "https://localhost:8080/"
    },
    "id": "tvO7yf1HVuW6",
    "outputId": "fd5eedf4-4c09-4a8c-98ca-20259d2ecb37"
   },
   "outputs": [
    {
     "name": "stdout",
     "output_type": "stream",
     "text": [
      "              precision    recall  f1-score   support\n",
      "\n",
      "         0.0       0.95      0.86      0.90     44254\n",
      "         1.0       0.28      0.52      0.36      4513\n",
      "\n",
      "    accuracy                           0.83     48767\n",
      "   macro avg       0.61      0.69      0.63     48767\n",
      "weighted avg       0.88      0.83      0.85     48767\n",
      "\n",
      "0.8283060266163594\n"
     ]
    }
   ],
   "source": [
    "prediction = clf_tree_pca.predict(x_test_std_pca)\n",
    "print(classification_report(y_test, prediction))\n",
    "score = clf_tree_pca.score(x_test_std_pca, y_test)\n",
    "print(score)"
   ]
  },
  {
   "cell_type": "markdown",
   "metadata": {
    "id": "--rDaGkZV2ct"
   },
   "source": [
    "### Random Forest Classifier:"
   ]
  },
  {
   "cell_type": "code",
   "execution_count": 43,
   "metadata": {
    "colab": {
     "base_uri": "https://localhost:8080/"
    },
    "id": "6qqGQKLiV5xZ",
    "outputId": "ff12e8d2-ac79-414c-b048-7b75f9f2940e"
   },
   "outputs": [
    {
     "name": "stdout",
     "output_type": "stream",
     "text": [
      "Test Score - 0.20070363544982409\n",
      "Train Score - 0.38008037452873183\n"
     ]
    }
   ],
   "source": [
    "clf_forest_non = RandomForestClassifier()\n",
    "clf_forest_non.fit(x_train,y_train)\n",
    "print(f'Test Score - {f1_score(clf_forest_non.predict(x_test),y_test)}')\n",
    "print(f'Train Score - {f1_score(clf_forest_non.predict(x_train),y_train)}')"
   ]
  },
  {
   "cell_type": "code",
   "execution_count": 44,
   "metadata": {
    "colab": {
     "base_uri": "https://localhost:8080/"
    },
    "id": "XD8BvxmoWRu4",
    "outputId": "2791ba30-28da-4249-e272-0f5715a27bd9"
   },
   "outputs": [
    {
     "name": "stdout",
     "output_type": "stream",
     "text": [
      "              precision    recall  f1-score   support\n",
      "\n",
      "         0.0       0.92      0.98      0.95     44254\n",
      "         1.0       0.41      0.13      0.20      4513\n",
      "\n",
      "    accuracy                           0.90     48767\n",
      "   macro avg       0.66      0.56      0.57     48767\n",
      "weighted avg       0.87      0.90      0.88     48767\n",
      "\n",
      "0.9021674492997314\n"
     ]
    }
   ],
   "source": [
    "prediction = clf_forest_non.predict(x_test)\n",
    "print(classification_report(y_test, prediction))\n",
    "score = clf_forest_non.score(x_test, y_test)\n",
    "print(score)"
   ]
  },
  {
   "cell_type": "markdown",
   "metadata": {
    "id": "1_usQ0D8Wci4"
   },
   "source": [
    "This will be the results with PCA:"
   ]
  },
  {
   "cell_type": "code",
   "execution_count": 45,
   "metadata": {
    "colab": {
     "base_uri": "https://localhost:8080/"
    },
    "id": "HazfszwuWfxp",
    "outputId": "c541dfe6-8811-4c55-d9d4-f3b7bbbf55d4"
   },
   "outputs": [
    {
     "name": "stdout",
     "output_type": "stream",
     "text": [
      "Train Data Score: 0.48311756637417574\n",
      "Test Data Score: 0.3633594761288358\n"
     ]
    }
   ],
   "source": [
    "clf_forest_pca = RandomForestClassifier()\n",
    "clf_forest_pca.fit(x_oversampled_pca,y_oversampled_pca)\n",
    "print(f'Train Data Score: {f1_score(clf_forest_pca.predict(x_train_std_pca),y_train)}')\n",
    "print(f'Test Data Score: {f1_score(clf_forest_pca.predict(x_test_std_pca),y_test)}')"
   ]
  },
  {
   "cell_type": "code",
   "execution_count": 47,
   "metadata": {
    "colab": {
     "base_uri": "https://localhost:8080/"
    },
    "id": "IKnBoHbOW-hV",
    "outputId": "54bee6af-b2a4-4cf6-c72b-2d7db01c3899"
   },
   "outputs": [
    {
     "name": "stdout",
     "output_type": "stream",
     "text": [
      "              precision    recall  f1-score   support\n",
      "\n",
      "         0.0       0.95      0.86      0.90     44254\n",
      "         1.0       0.28      0.53      0.36      4513\n",
      "\n",
      "    accuracy                           0.83     48767\n",
      "   macro avg       0.61      0.69      0.63     48767\n",
      "weighted avg       0.88      0.83      0.85     48767\n",
      "\n",
      "0.8285520946541719\n"
     ]
    }
   ],
   "source": [
    "prediction = clf_forest_pca.predict(x_test_std_pca)\n",
    "print(classification_report(y_test, prediction))\n",
    "score = clf_forest_pca.score(x_test_std_pca, y_test)\n",
    "print(score)"
   ]
  },
  {
   "cell_type": "markdown",
   "metadata": {
    "id": "l4QLNlHYYLiQ"
   },
   "source": [
    "### XG Boost Algorithm:"
   ]
  },
  {
   "cell_type": "code",
   "execution_count": 48,
   "metadata": {
    "colab": {
     "base_uri": "https://localhost:8080/"
    },
    "id": "FAKUnW_OYNqs",
    "outputId": "a67a8f25-b1cf-4f90-d337-ba6a49166359"
   },
   "outputs": [
    {
     "name": "stdout",
     "output_type": "stream",
     "text": [
      "Train Data Score: 0.3465830405273941\n",
      "Test Data Score: 0.34666787889808165\n"
     ]
    }
   ],
   "source": [
    "model = XGBClassifier(eval_metric='auc',scale_pos_weight = (y_over.shape[0] / y.sum())-1)\n",
    "model.fit(x_train, y_train)\n",
    "print(f'Train Data Score: {f1_score(model.predict(x_train),y_train)}')\n",
    "print(f'Test Data Score: {f1_score(model.predict(x_test),y_test)}')"
   ]
  },
  {
   "cell_type": "code",
   "execution_count": 49,
   "metadata": {
    "colab": {
     "base_uri": "https://localhost:8080/"
    },
    "id": "R5zMwY5VYjwZ",
    "outputId": "7d532b8c-a629-4183-dd2f-6dc4c50787ab"
   },
   "outputs": [
    {
     "name": "stdout",
     "output_type": "stream",
     "text": [
      "              precision    recall  f1-score   support\n",
      "\n",
      "         0.0       0.98      0.69      0.81     44254\n",
      "         1.0       0.22      0.84      0.35      4513\n",
      "\n",
      "    accuracy                           0.71     48767\n",
      "   macro avg       0.60      0.77      0.58     48767\n",
      "weighted avg       0.91      0.71      0.77     48767\n",
      "\n",
      "0.7052925133799496\n"
     ]
    }
   ],
   "source": [
    "prediction = model.predict(x_test)\n",
    "print(classification_report(y_test, prediction))\n",
    "score = model.score(x_test, y_test)\n",
    "print(score)"
   ]
  },
  {
   "cell_type": "markdown",
   "metadata": {
    "id": "jD5AGHvlZZDO"
   },
   "source": [
    "This will be the results with PCA:"
   ]
  },
  {
   "cell_type": "code",
   "execution_count": 50,
   "metadata": {
    "colab": {
     "base_uri": "https://localhost:8080/"
    },
    "id": "qEaCTeIiZcXr",
    "outputId": "1ba60e4f-d5b3-4a6f-dce5-2d9bfe1b1534"
   },
   "outputs": [
    {
     "name": "stdout",
     "output_type": "stream",
     "text": [
      "Train Data Score: 0.48311756637417574\n",
      "Test Data Score: 0.3633594761288358\n"
     ]
    }
   ],
   "source": [
    "model_pca = RandomForestClassifier()\n",
    "model_pca.fit(x_oversampled_pca,y_oversampled_pca)\n",
    "print(f'Train Data Score: {f1_score(clf_forest_pca.predict(x_train_std_pca),y_train)}')\n",
    "print(f'Test Data Score: {f1_score(clf_forest_pca.predict(x_test_std_pca),y_test)}')"
   ]
  },
  {
   "cell_type": "code",
   "execution_count": 51,
   "metadata": {
    "colab": {
     "base_uri": "https://localhost:8080/"
    },
    "id": "TiybRdj1Zpws",
    "outputId": "e4d8918b-115d-48e4-8a96-2c9fdcbfd6bd"
   },
   "outputs": [
    {
     "name": "stdout",
     "output_type": "stream",
     "text": [
      "              precision    recall  f1-score   support\n",
      "\n",
      "         0.0       0.95      0.86      0.90     44254\n",
      "         1.0       0.28      0.53      0.36      4513\n",
      "\n",
      "    accuracy                           0.83     48767\n",
      "   macro avg       0.61      0.69      0.63     48767\n",
      "weighted avg       0.88      0.83      0.85     48767\n",
      "\n",
      "0.8283880492956303\n"
     ]
    }
   ],
   "source": [
    "prediction = model_pca.predict(x_test_std_pca)\n",
    "print(classification_report(y_test, prediction))\n",
    "score = model_pca.score(x_test_std_pca, y_test)\n",
    "print(score)"
   ]
  },
  {
   "cell_type": "markdown",
   "metadata": {
    "id": "zG86AJHFaZ-1"
   },
   "source": [
    "As we can see that in most of the cases except the XG Boost, we can see that the algorithms performs much better in all of the above \n",
    "Cases which is done without PCA which also includes working with Oversampling of the data."
   ]
  },
  {
   "cell_type": "markdown",
   "metadata": {
    "id": "ReR0SAthciCc"
   },
   "source": [
    "Performing Hyper Parameter Tuning For Logistic Regression:\n",
    "\n",
    "\n"
   ]
  },
  {
   "cell_type": "code",
   "execution_count": 52,
   "metadata": {
    "colab": {
     "base_uri": "https://localhost:8080/",
     "height": 508
    },
    "id": "H5rG5HUTcnS1",
    "outputId": "9f5ce647-8087-4fcd-ecdd-283ed31b101d"
   },
   "outputs": [
    {
     "name": "stdout",
     "output_type": "stream",
     "text": [
      "Beta: [[0.54559264 0.58305327 0.45105846 0.90408623 0.17786236 0.51232519\n",
      "  0.00208942 0.2210021  0.24481167]]\n",
      "Params {'C': 0.01}\n",
      "              precision    recall  f1-score   support\n",
      "\n",
      "         0.0       0.92      0.99      0.95     44254\n",
      "         1.0       0.55      0.11      0.18      4513\n",
      "\n",
      "    accuracy                           0.91     48767\n",
      "   macro avg       0.73      0.55      0.57     48767\n",
      "weighted avg       0.88      0.91      0.88     48767\n",
      "\n",
      "Score: 0.9094059507453811\n",
      "[0.         0.00894834 1.        ] [0.         0.10879681 1.        ] [2. 1. 0.]\n"
     ]
    },
    {
     "data": {
      "image/png": "[encoded data removed]",
      "text/plain": [
       "<Figure size 432x288 with 1 Axes>"
      ]
     },
     "metadata": {
      "needs_background": "light"
     },
     "output_type": "display_data"
    }
   ],
   "source": [
    "parameters = {'C':[0.001, 0.01, 0.1, 1]}\n",
    "regression_cv = GridSearchCV(LogisticRegression(), param_grid = parameters, cv = 5)\n",
    "regression_cv.fit(x_train, y_train)\n",
    "lr = LogisticRegression(C = regression_cv.best_params_['C'])\n",
    "lr.fit(x_train, y_train)\n",
    "\n",
    "# Beta:\n",
    "print(\"Beta:\", lr.coef_)\n",
    "\n",
    "# Parameters:\n",
    "print(\"Params\", regression_cv.best_params_)\n",
    "\n",
    "prediction = lr.predict(x_test)\n",
    "print(classification_report(y_test, prediction))\n",
    "score = lr.score(x_test, y_test)\n",
    "print(\"Score: \"+str(score))\n",
    "fpr, tpr, _ = roc_curve(y_test, prediction)\n",
    "print(fpr, tpr, _)\n",
    "auc = roc_auc_score(y_test, prediction)\n",
    "plt.plot(fpr, tpr, label = \"AUC: \"+str(auc))\n",
    "plt.legend()\n",
    "plt.show()"
   ]
  },
  {
   "cell_type": "markdown",
   "metadata": {
    "id": "GwCW03yAlDdc"
   },
   "source": [
    "Hyper Parameter Tuning For Decision Tree Classifier:"
   ]
  },
  {
   "cell_type": "code",
   "execution_count": 53,
   "metadata": {
    "colab": {
     "base_uri": "https://localhost:8080/",
     "height": 473
    },
    "id": "l_-t-o9Bcu15",
    "outputId": "34881501-b9b7-47af-fb9f-fc62b41a178c"
   },
   "outputs": [
    {
     "name": "stdout",
     "output_type": "stream",
     "text": [
      "{'max_depth': 5, 'min_samples_leaf': 1, 'min_samples_split': 2}\n",
      "              precision    recall  f1-score   support\n",
      "\n",
      "         0.0       0.91      1.00      0.95     44254\n",
      "         1.0       0.60      0.04      0.08      4513\n",
      "\n",
      "    accuracy                           0.91     48767\n",
      "   macro avg       0.76      0.52      0.52     48767\n",
      "weighted avg       0.88      0.91      0.87     48767\n",
      "\n",
      "Score: 0.9087497693112145\n",
      "[0.        0.0028698 1.       ] [0.        0.0421006 1.       ] [2. 1. 0.]\n"
     ]
    },
    {
     "data": {
      "image/png": "[encoded data removed]",
      "text/plain": [
       "<Figure size 432x288 with 1 Axes>"
      ]
     },
     "metadata": {
      "needs_background": "light"
     },
     "output_type": "display_data"
    }
   ],
   "source": [
    "param_grid = {\n",
    "    'max_depth': [3, 5, 7],\n",
    "    'min_samples_split': [2, 4, 6],\n",
    "    'min_samples_leaf': [1, 3, 5]\n",
    "}\n",
    "\n",
    "# Create the classifier\n",
    "clf = DecisionTreeClassifier()\n",
    "\n",
    "# Create the grid search object\n",
    "grid_search = GridSearchCV(clf, param_grid, cv=5)\n",
    "\n",
    "# Fit the grid search object to the training data\n",
    "grid_search.fit(x_train, y_train)\n",
    "\n",
    "# Get the best combination of hyperparameters\n",
    "best_params = grid_search.best_params_\n",
    "print(best_params)\n",
    "\n",
    "# Train a new classifier with the best combination of hyperparameters\n",
    "clf = DecisionTreeClassifier(**best_params)\n",
    "clf.fit(x_train, y_train)\n",
    "\n",
    "prediction = clf.predict(x_test)\n",
    "print(classification_report(y_test, prediction))\n",
    "\n",
    "score = clf.score(x_test, y_test)\n",
    "print(\"Score: \"+str(score))\n",
    "fpr, tpr, _ = roc_curve(y_test, prediction)\n",
    "\n",
    "print(fpr, tpr, _)\n",
    "auc = roc_auc_score(y_test, prediction)\n",
    "plt.plot(fpr, tpr, label = \"AUC: \"+str(auc))\n",
    "plt.legend()\n",
    "plt.show()"
   ]
  },
  {
   "cell_type": "markdown",
   "metadata": {
    "id": "WXGuc_EHlb3t"
   },
   "source": [
    "Hyper Parameter Tuning For Random Forest Classifier:\n"
   ]
  },
  {
   "cell_type": "code",
   "execution_count": 54,
   "metadata": {
    "colab": {
     "base_uri": "https://localhost:8080/",
     "height": 473
    },
    "id": "bQVw0HyFdAP_",
    "outputId": "3f7e662b-b1b1-4dcf-ff00-a3ff74e3ce19"
   },
   "outputs": [
    {
     "name": "stdout",
     "output_type": "stream",
     "text": [
      "{'max_depth': 5, 'min_samples_leaf': 3, 'min_samples_split': 4, 'n_estimators': 5}\n",
      "              precision    recall  f1-score   support\n",
      "\n",
      "         0.0       0.91      1.00      0.95     44254\n",
      "         1.0       0.61      0.03      0.05      4513\n",
      "\n",
      "    accuracy                           0.91     48767\n",
      "   macro avg       0.76      0.51      0.50     48767\n",
      "weighted avg       0.88      0.91      0.87     48767\n",
      "\n",
      "Score: 0.9084011729243135\n",
      "[0.         0.00183034 1.        ] [0.         0.02814093 1.        ] [2. 1. 0.]\n"
     ]
    },
    {
     "data": {
      "image/png": "[encoded data removed]",
      "text/plain": [
       "<Figure size 432x288 with 1 Axes>"
      ]
     },
     "metadata": {
      "needs_background": "light"
     },
     "output_type": "display_data"
    }
   ],
   "source": [
    "param_grid = {\n",
    "    'n_estimators': [5,10],\n",
    "    'max_depth': [3, 5],\n",
    "    'min_samples_split': [2, 4],\n",
    "    'min_samples_leaf': [1, 3]\n",
    "}\n",
    "\n",
    "# Create the classifier\n",
    "clf = RandomForestClassifier()\n",
    "\n",
    "# Create the grid search object\n",
    "grid_search = GridSearchCV(clf, param_grid, cv=5)\n",
    "\n",
    "# Fit the grid search object to the training data\n",
    "grid_search.fit(x_train, y_train)\n",
    "\n",
    "# Get the best combination of hyperparameters\n",
    "best_params = grid_search.best_params_\n",
    "print(best_params)\n",
    "\n",
    "# Train a new classifier with the best combination of hyperparameters\n",
    "clf_r = RandomForestClassifier(**best_params)\n",
    "clf_r.fit(x_train, y_train)\n",
    "\n",
    "\n",
    "prediction = clf_r.predict(x_test)\n",
    "print(classification_report(y_test, prediction))\n",
    "\n",
    "score = clf_r.score(x_test, y_test)\n",
    "print(\"Score: \"+str(score))\n",
    "fpr, tpr, _ = roc_curve(y_test, prediction)\n",
    "\n",
    "print(fpr, tpr, _)\n",
    "auc = roc_auc_score(y_test, prediction)\n",
    "plt.plot(fpr, tpr, label = \"AUC: \"+str(auc))\n",
    "plt.legend()\n",
    "plt.show()"
   ]
  },
  {
   "cell_type": "markdown",
   "metadata": {
    "id": "RNSuguMulfgF"
   },
   "source": [
    "Hyper Parameter Tuning For XGBoost:\n"
   ]
  },
  {
   "cell_type": "code",
   "execution_count": 55,
   "metadata": {
    "colab": {
     "base_uri": "https://localhost:8080/",
     "height": 473
    },
    "id": "21GOYfjRh2GR",
    "outputId": "a59f5e4b-4709-4c25-93c5-483d988d3693"
   },
   "outputs": [
    {
     "name": "stdout",
     "output_type": "stream",
     "text": [
      "{'learning_rate': 0.1, 'max_depth': 5, 'n_estimators': 100}\n",
      "              precision    recall  f1-score   support\n",
      "\n",
      "         0.0       0.91      0.99      0.95     44254\n",
      "         1.0       0.59      0.09      0.16      4513\n",
      "\n",
      "    accuracy                           0.91     48767\n",
      "   macro avg       0.75      0.54      0.55     48767\n",
      "weighted avg       0.88      0.91      0.88     48767\n",
      "\n",
      "Score: 0.9084011729243135\n",
      "[0.         0.00183034 1.        ] [0.         0.02814093 1.        ] [2. 1. 0.]\n"
     ]
    },
    {
     "data": {
      "image/png": "[encoded data removed]",
      "text/plain": [
       "<Figure size 432x288 with 1 Axes>"
      ]
     },
     "metadata": {
      "needs_background": "light"
     },
     "output_type": "display_data"
    }
   ],
   "source": [
    "from xgboost import XGBClassifier\n",
    "from sklearn.model_selection import GridSearchCV\n",
    "\n",
    "# Define the range of values for each hyperparameter\n",
    "param_grid = {\n",
    "    'learning_rate': [0.1, 0.2, 0.3],\n",
    "    'max_depth': [3, 4, 5],\n",
    "    'n_estimators': [100]\n",
    "}\n",
    "\n",
    "# Create the XGBoost model\n",
    "model = XGBClassifier()\n",
    "\n",
    "# Create the grid search object\n",
    "grid_search = GridSearchCV(estimator=model, param_grid=param_grid, cv=5, scoring='accuracy', n_jobs=-1)\n",
    "\n",
    "# Fit the grid search to the training data\n",
    "grid_search.fit(x_train, y_train)\n",
    "\n",
    "# Print the best hyperparameter values\n",
    "print(grid_search.best_params_)\n",
    "\n",
    "# Get the best model\n",
    "best_model = grid_search.best_estimator_\n",
    "\n",
    "# Make predictions on the test set using the best model\n",
    "y_pred = best_model.predict(x_test)\n",
    "\n",
    "print(classification_report(y_test, y_pred))\n",
    "\n",
    "score = clf_r.score(x_test, y_test)\n",
    "print(\"Score: \"+str(score))\n",
    "fpr, tpr, _ = roc_curve(y_test, prediction)\n",
    "\n",
    "print(fpr, tpr, _)\n",
    "auc = roc_auc_score(y_test, prediction)\n",
    "plt.plot(fpr, tpr, label = \"AUC: \"+str(auc))\n",
    "plt.legend()\n",
    "plt.show()"
   ]
  },
  {
   "cell_type": "markdown",
   "metadata": {
    "id": "fqQ87FE2tSiq"
   },
   "source": [
    "### Performing Clustering using K-Means Algorithm and also performing the Hyper Paramater Tuning using Grid Search CV:"
   ]
  },
  {
   "cell_type": "code",
   "execution_count": 56,
   "metadata": {
    "id": "kYesmWViqowf"
   },
   "outputs": [],
   "source": [
    "data_same=pd.read_csv(\"heart_disease_health_indicators_BRFSS2015.csv\")"
   ]
  },
  {
   "cell_type": "code",
   "execution_count": 57,
   "metadata": {
    "colab": {
     "base_uri": "https://localhost:8080/"
    },
    "id": "xJuglFROrBcL",
    "outputId": "a5740a2c-3505-4383-a2dd-adf9d0e4cbf5"
   },
   "outputs": [
    {
     "data": {
      "text/plain": [
       "253680"
      ]
     },
     "execution_count": 57,
     "metadata": {},
     "output_type": "execute_result"
    }
   ],
   "source": [
    "data_same.shape[0]"
   ]
  },
  {
   "cell_type": "code",
   "execution_count": 58,
   "metadata": {
    "id": "rSoIErK9q7RA"
   },
   "outputs": [],
   "source": [
    "train_size=0.8*253680\n",
    "test_size=0.2*253680"
   ]
  },
  {
   "cell_type": "code",
   "execution_count": 59,
   "metadata": {
    "colab": {
     "base_uri": "https://localhost:8080/"
    },
    "id": "v6o89bsgrpH9",
    "outputId": "cb583cfa-dd85-4aa2-b9cf-384b5ab491d3"
   },
   "outputs": [
    {
     "data": {
      "text/plain": [
       "202944.0"
      ]
     },
     "execution_count": 59,
     "metadata": {},
     "output_type": "execute_result"
    }
   ],
   "source": [
    "train_size"
   ]
  },
  {
   "cell_type": "code",
   "execution_count": 60,
   "metadata": {
    "id": "bfa32btsrcVC"
   },
   "outputs": [],
   "source": [
    "train_data=data_same.iloc[:202944,:]\n",
    "test_data=data_same.iloc[202944:,:]"
   ]
  },
  {
   "cell_type": "code",
   "execution_count": 61,
   "metadata": {
    "colab": {
     "base_uri": "https://localhost:8080/"
    },
    "id": "K4hl1G7Kl1fH",
    "outputId": "2f47f3a8-0415-4b2e-f899-dc1a6af0c894"
   },
   "outputs": [
    {
     "name": "stdout",
     "output_type": "stream",
     "text": [
      "{'n_clusters': 6}\n"
     ]
    }
   ],
   "source": [
    "# Define the range of values for the hyperparameter n_clusters\n",
    "param_grid = {'n_clusters': range(2, 7)}\n",
    "\n",
    "# Create the K-means model\n",
    "model = KMeans()\n",
    "\n",
    "# Create the grid search object\n",
    "grid_search = GridSearchCV(estimator=model, param_grid=param_grid, cv=5, n_jobs=-1)\n",
    "\n",
    "grid_search.fit(train_data)\n",
    "\n",
    "# Print the best hyperparameter value\n",
    "print(grid_search.best_params_)\n",
    "\n",
    "# Get the best model\n",
    "best_model = grid_search.best_estimator_\n",
    "\n",
    "# Make predictions on the test set using the best model\n",
    "y_pred = best_model.predict(test_data)"
   ]
  },
  {
   "cell_type": "code",
   "execution_count": 61,
   "metadata": {
    "id": "1fHu9G8SsF_M"
   },
   "outputs": [],
   "source": []
  }
 ],
 "metadata": {
  "accelerator": "GPU",
  "colab": {
   "provenance": []
  },
  "gpuClass": "standard",
  "kernelspec": {
   "display_name": "Python 3 (ipykernel)",
   "language": "python",
   "name": "python3"
  },
  "language_info": {
   "codemirror_mode": {
    "name": "ipython",
    "version": 3
   },
   "file_extension": ".py",
   "mimetype": "text/x-python",
   "name": "python",
   "nbconvert_exporter": "python",
   "pygments_lexer": "ipython3",
   "version": "3.9.12"
  }
 },
 "nbformat": 4,
 "nbformat_minor": 1
}
