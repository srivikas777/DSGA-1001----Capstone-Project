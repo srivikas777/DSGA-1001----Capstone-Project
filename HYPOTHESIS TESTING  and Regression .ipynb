{
 "cells": [
  {
   "cell_type": "code",
   "execution_count": 243,
   "id": "0cb918dd",
   "metadata": {},
   "outputs": [],
   "source": [
    "import numpy as np\n",
    "import pandas as pd\n",
    "import seaborn as sns\n",
    "import matplotlib.pyplot as plt\n",
    "import math\n",
    "import warnings\n",
    "warnings.filterwarnings('ignore')\n",
    "import sklearn\n",
    "from scipy import stats\n",
    "from statistics import mean\n",
    "from sklearn import linear_model, metrics\n",
    "from sklearn.model_selection import train_test_split, GridSearchCV\n",
    "import random"
   ]
  },
  {
   "cell_type": "code",
   "execution_count": 190,
   "id": "7be7402e",
   "metadata": {},
   "outputs": [],
   "source": [
    "df = pd.read_csv('heart_disease_health_indicators_BRFSS2015.csv')"
   ]
  },
  {
   "cell_type": "code",
   "execution_count": 191,
   "id": "f763ff57",
   "metadata": {},
   "outputs": [
    {
     "data": {
      "text/html": [
       "<div>\n",
       "<style scoped>\n",
       "    .dataframe tbody tr th:only-of-type {\n",
       "        vertical-align: middle;\n",
       "    }\n",
       "\n",
       "    .dataframe tbody tr th {\n",
       "        vertical-align: top;\n",
       "    }\n",
       "\n",
       "    .dataframe thead th {\n",
       "        text-align: right;\n",
       "    }\n",
       "</style>\n",
       "<table border=\"1\" class=\"dataframe\">\n",
       "  <thead>\n",
       "    <tr style=\"text-align: right;\">\n",
       "      <th></th>\n",
       "      <th>HeartDiseaseorAttack</th>\n",
       "      <th>HighBP</th>\n",
       "      <th>HighChol</th>\n",
       "      <th>CholCheck</th>\n",
       "      <th>BMI</th>\n",
       "      <th>Smoker</th>\n",
       "      <th>Stroke</th>\n",
       "      <th>Diabetes</th>\n",
       "      <th>PhysActivity</th>\n",
       "      <th>Fruits</th>\n",
       "      <th>...</th>\n",
       "      <th>AnyHealthcare</th>\n",
       "      <th>NoDocbcCost</th>\n",
       "      <th>GenHlth</th>\n",
       "      <th>MentHlth</th>\n",
       "      <th>PhysHlth</th>\n",
       "      <th>DiffWalk</th>\n",
       "      <th>Sex</th>\n",
       "      <th>Age</th>\n",
       "      <th>Education</th>\n",
       "      <th>Income</th>\n",
       "    </tr>\n",
       "  </thead>\n",
       "  <tbody>\n",
       "    <tr>\n",
       "      <th>0</th>\n",
       "      <td>0.0</td>\n",
       "      <td>1.0</td>\n",
       "      <td>1.0</td>\n",
       "      <td>1.0</td>\n",
       "      <td>40.0</td>\n",
       "      <td>1.0</td>\n",
       "      <td>0.0</td>\n",
       "      <td>0.0</td>\n",
       "      <td>0.0</td>\n",
       "      <td>0.0</td>\n",
       "      <td>...</td>\n",
       "      <td>1.0</td>\n",
       "      <td>0.0</td>\n",
       "      <td>5.0</td>\n",
       "      <td>18.0</td>\n",
       "      <td>15.0</td>\n",
       "      <td>1.0</td>\n",
       "      <td>0.0</td>\n",
       "      <td>9.0</td>\n",
       "      <td>4.0</td>\n",
       "      <td>3.0</td>\n",
       "    </tr>\n",
       "    <tr>\n",
       "      <th>1</th>\n",
       "      <td>0.0</td>\n",
       "      <td>0.0</td>\n",
       "      <td>0.0</td>\n",
       "      <td>0.0</td>\n",
       "      <td>25.0</td>\n",
       "      <td>1.0</td>\n",
       "      <td>0.0</td>\n",
       "      <td>0.0</td>\n",
       "      <td>1.0</td>\n",
       "      <td>0.0</td>\n",
       "      <td>...</td>\n",
       "      <td>0.0</td>\n",
       "      <td>1.0</td>\n",
       "      <td>3.0</td>\n",
       "      <td>0.0</td>\n",
       "      <td>0.0</td>\n",
       "      <td>0.0</td>\n",
       "      <td>0.0</td>\n",
       "      <td>7.0</td>\n",
       "      <td>6.0</td>\n",
       "      <td>1.0</td>\n",
       "    </tr>\n",
       "    <tr>\n",
       "      <th>2</th>\n",
       "      <td>0.0</td>\n",
       "      <td>1.0</td>\n",
       "      <td>1.0</td>\n",
       "      <td>1.0</td>\n",
       "      <td>28.0</td>\n",
       "      <td>0.0</td>\n",
       "      <td>0.0</td>\n",
       "      <td>0.0</td>\n",
       "      <td>0.0</td>\n",
       "      <td>1.0</td>\n",
       "      <td>...</td>\n",
       "      <td>1.0</td>\n",
       "      <td>1.0</td>\n",
       "      <td>5.0</td>\n",
       "      <td>30.0</td>\n",
       "      <td>30.0</td>\n",
       "      <td>1.0</td>\n",
       "      <td>0.0</td>\n",
       "      <td>9.0</td>\n",
       "      <td>4.0</td>\n",
       "      <td>8.0</td>\n",
       "    </tr>\n",
       "    <tr>\n",
       "      <th>3</th>\n",
       "      <td>0.0</td>\n",
       "      <td>1.0</td>\n",
       "      <td>0.0</td>\n",
       "      <td>1.0</td>\n",
       "      <td>27.0</td>\n",
       "      <td>0.0</td>\n",
       "      <td>0.0</td>\n",
       "      <td>0.0</td>\n",
       "      <td>1.0</td>\n",
       "      <td>1.0</td>\n",
       "      <td>...</td>\n",
       "      <td>1.0</td>\n",
       "      <td>0.0</td>\n",
       "      <td>2.0</td>\n",
       "      <td>0.0</td>\n",
       "      <td>0.0</td>\n",
       "      <td>0.0</td>\n",
       "      <td>0.0</td>\n",
       "      <td>11.0</td>\n",
       "      <td>3.0</td>\n",
       "      <td>6.0</td>\n",
       "    </tr>\n",
       "    <tr>\n",
       "      <th>4</th>\n",
       "      <td>0.0</td>\n",
       "      <td>1.0</td>\n",
       "      <td>1.0</td>\n",
       "      <td>1.0</td>\n",
       "      <td>24.0</td>\n",
       "      <td>0.0</td>\n",
       "      <td>0.0</td>\n",
       "      <td>0.0</td>\n",
       "      <td>1.0</td>\n",
       "      <td>1.0</td>\n",
       "      <td>...</td>\n",
       "      <td>1.0</td>\n",
       "      <td>0.0</td>\n",
       "      <td>2.0</td>\n",
       "      <td>3.0</td>\n",
       "      <td>0.0</td>\n",
       "      <td>0.0</td>\n",
       "      <td>0.0</td>\n",
       "      <td>11.0</td>\n",
       "      <td>5.0</td>\n",
       "      <td>4.0</td>\n",
       "    </tr>\n",
       "  </tbody>\n",
       "</table>\n",
       "<p>5 rows × 22 columns</p>\n",
       "</div>"
      ],
      "text/plain": [
       "   HeartDiseaseorAttack  HighBP  HighChol  CholCheck   BMI  Smoker  Stroke  \\\n",
       "0                   0.0     1.0       1.0        1.0  40.0     1.0     0.0   \n",
       "1                   0.0     0.0       0.0        0.0  25.0     1.0     0.0   \n",
       "2                   0.0     1.0       1.0        1.0  28.0     0.0     0.0   \n",
       "3                   0.0     1.0       0.0        1.0  27.0     0.0     0.0   \n",
       "4                   0.0     1.0       1.0        1.0  24.0     0.0     0.0   \n",
       "\n",
       "   Diabetes  PhysActivity  Fruits  ...  AnyHealthcare  NoDocbcCost  GenHlth  \\\n",
       "0       0.0           0.0     0.0  ...            1.0          0.0      5.0   \n",
       "1       0.0           1.0     0.0  ...            0.0          1.0      3.0   \n",
       "2       0.0           0.0     1.0  ...            1.0          1.0      5.0   \n",
       "3       0.0           1.0     1.0  ...            1.0          0.0      2.0   \n",
       "4       0.0           1.0     1.0  ...            1.0          0.0      2.0   \n",
       "\n",
       "   MentHlth  PhysHlth  DiffWalk  Sex   Age  Education  Income  \n",
       "0      18.0      15.0       1.0  0.0   9.0        4.0     3.0  \n",
       "1       0.0       0.0       0.0  0.0   7.0        6.0     1.0  \n",
       "2      30.0      30.0       1.0  0.0   9.0        4.0     8.0  \n",
       "3       0.0       0.0       0.0  0.0  11.0        3.0     6.0  \n",
       "4       3.0       0.0       0.0  0.0  11.0        5.0     4.0  \n",
       "\n",
       "[5 rows x 22 columns]"
      ]
     },
     "execution_count": 191,
     "metadata": {},
     "output_type": "execute_result"
    }
   ],
   "source": [
    "df.head()"
   ]
  },
  {
   "cell_type": "code",
   "execution_count": 192,
   "id": "54ed18f4",
   "metadata": {},
   "outputs": [
    {
     "name": "stdout",
     "output_type": "stream",
     "text": [
      "Column: HeartDiseaseorAttack, Null values: 0\n",
      "Column: HighBP, Null values: 0\n",
      "Column: HighChol, Null values: 0\n",
      "Column: CholCheck, Null values: 0\n",
      "Column: BMI, Null values: 0\n",
      "Column: Smoker, Null values: 0\n",
      "Column: Stroke, Null values: 0\n",
      "Column: Diabetes, Null values: 0\n",
      "Column: PhysActivity, Null values: 0\n",
      "Column: Fruits, Null values: 0\n",
      "Column: Veggies, Null values: 0\n",
      "Column: HvyAlcoholConsump, Null values: 0\n",
      "Column: AnyHealthcare, Null values: 0\n",
      "Column: NoDocbcCost, Null values: 0\n",
      "Column: GenHlth, Null values: 0\n",
      "Column: MentHlth, Null values: 0\n",
      "Column: PhysHlth, Null values: 0\n",
      "Column: DiffWalk, Null values: 0\n",
      "Column: Sex, Null values: 0\n",
      "Column: Age, Null values: 0\n",
      "Column: Education, Null values: 0\n",
      "Column: Income, Null values: 0\n"
     ]
    }
   ],
   "source": [
    "column_names = df.columns\n",
    "\n",
    "# null values for each column\n",
    "null_values = df.isnull().sum()\n",
    "\n",
    "for column, null_count in zip(column_names, null_values):\n",
    "    print(f'Column: {column}, Null values: {null_count}')"
   ]
  },
  {
   "cell_type": "code",
   "execution_count": 193,
   "id": "94d37374",
   "metadata": {},
   "outputs": [
    {
     "name": "stdout",
     "output_type": "stream",
     "text": [
      "Mean: 3.1847721538946705, Median: 0.0\n"
     ]
    }
   ],
   "source": [
    "mean = df['MentHlth'].mean()\n",
    "median = df['MentHlth'].median()\n",
    "print(f'Mean: {mean}, Median: {median}')"
   ]
  },
  {
   "cell_type": "code",
   "execution_count": 194,
   "id": "460d7880",
   "metadata": {},
   "outputs": [
    {
     "data": {
      "image/png": "[encoded data removed]",
      "text/plain": [
       "<Figure size 432x288 with 1 Axes>"
      ]
     },
     "metadata": {
      "needs_background": "light"
     },
     "output_type": "display_data"
    }
   ],
   "source": [
    "df['MentHlth'].plot(kind='hist', bins=20, range=[0, 30], title='Column Name Distribution')\n",
    "plt.show()"
   ]
  },
  {
   "cell_type": "code",
   "execution_count": 195,
   "id": "5a48a39e",
   "metadata": {},
   "outputs": [
    {
     "data": {
      "image/png": "[encoded data removed]",
      "text/plain": [
       "<Figure size 432x288 with 1 Axes>"
      ]
     },
     "metadata": {
      "needs_background": "light"
     },
     "output_type": "display_data"
    }
   ],
   "source": [
    "df['PhysHlth'].plot(kind='hist', bins=20, range=[0, 30], title='Column Name Distribution')\n",
    "plt.show()"
   ]
  },
  {
   "cell_type": "code",
   "execution_count": 196,
   "id": "5d1bcd50",
   "metadata": {},
   "outputs": [],
   "source": [
    "#stroke vs mentalHealth\n",
    "#stroke vs NoDocbcCost\n",
    "#stroke vs Healthy habits"
   ]
  },
  {
   "cell_type": "code",
   "execution_count": 197,
   "id": "aa5f7c59",
   "metadata": {},
   "outputs": [],
   "source": [
    "part1 = df.loc[df[\"Stroke\"] == 0].reset_index(drop=True)\n",
    "part2 = df.loc[df[\"Stroke\"] == 1].reset_index(drop=True)"
   ]
  },
  {
   "cell_type": "code",
   "execution_count": 198,
   "id": "230796ac",
   "metadata": {},
   "outputs": [
    {
     "data": {
      "image/png": "[encoded data removed]",
      "text/plain": [
       "<Figure size 432x288 with 1 Axes>"
      ]
     },
     "metadata": {
      "needs_background": "light"
     },
     "output_type": "display_data"
    }
   ],
   "source": [
    "#stroke vs mentalHealth\n",
    "import matplotlib.pyplot as plt\n",
    "\n",
    "plt.hist(part1[\"MentHlth\"], bins=20, density=True, alpha=0.5)\n",
    "plt.hist(part2[\"MentHlth\"], bins=20, density=True, alpha=0.5)\n",
    "\n",
    "plt.legend([\"Mental health distribution of normal people\", \"Mental health distribution of people who had stroke\"])\n",
    "\n",
    "plt.ylabel(\"Probability density\")\n",
    "\n",
    "plt.show()\n"
   ]
  },
  {
   "cell_type": "code",
   "execution_count": 199,
   "id": "7b0233d6",
   "metadata": {},
   "outputs": [
    {
     "data": {
      "image/png": "[encoded data removed]",
      "text/plain": [
       "<Figure size 432x288 with 1 Axes>"
      ]
     },
     "metadata": {
      "needs_background": "light"
     },
     "output_type": "display_data"
    }
   ],
   "source": [
    "sns.kdeplot(part1[\"MentHlth\"], color='b', label='Part 1')\n",
    "sns.kdeplot(part2[\"MentHlth\"], color='r', label='Part 2')\n",
    "\n",
    "plt.axvline(part1[\"MentHlth\"].mean(), color='b', linestyle='dashed', linewidth=2)\n",
    "plt.axvline(part2[\"MentHlth\"].mean(), color='r', linestyle='dashed', linewidth=2)\n",
    "\n",
    "plt.xlabel('Mental health')\n",
    "plt.ylabel('Probability density')\n",
    "plt.show()\n"
   ]
  },
  {
   "cell_type": "code",
   "execution_count": 200,
   "id": "98467edf",
   "metadata": {},
   "outputs": [
    {
     "name": "stdout",
     "output_type": "stream",
     "text": [
      "52.75805031252167 100.13333623880862\n"
     ]
    }
   ],
   "source": [
    "variance1 = statistics.variance(part1[\"MentHlth\"])\n",
    "variance2 = statistics.variance(part2[\"MentHlth\"])\n",
    "print(variance1,variance2)"
   ]
  },
  {
   "cell_type": "code",
   "execution_count": 201,
   "id": "db1b8a13",
   "metadata": {},
   "outputs": [
    {
     "name": "stdout",
     "output_type": "stream",
     "text": [
      "t-test statistic: -26.436823661\n",
      "2.85116793201112e-149\n"
     ]
    }
   ],
   "source": [
    "#stroke vs mentalHealth\n",
    "from scipy.stats import ttest_ind\n",
    "\n",
    "t, p = ttest_ind(part1[\"MentHlth\"], part2[\"MentHlth\"], equal_var=False)\n",
    "\n",
    "print(f\"t-test statistic: {t:.9f}\")\n",
    "print(p)"
   ]
  },
  {
   "cell_type": "code",
   "execution_count": 202,
   "id": "48e973a9",
   "metadata": {},
   "outputs": [],
   "source": [
    "# Here Null Hypothesis is “People with mental health issues in past 30 days are not highly prone to stroke”\n",
    "# Alternate Hypothesis: \"People with mental health issues in past 30 days are highly prone to stroke\"\n",
    "# Here clearly p < 𝛼. So, result is statistically significant and we reject our null hypothesis. So, we conclude stating that “People with mental health issues in past 30 days are highly prone to stroke”"
   ]
  },
  {
   "cell_type": "code",
   "execution_count": 203,
   "id": "bfc3e04c",
   "metadata": {},
   "outputs": [],
   "source": [
    "part3 = df.loc[df[\"NoDocbcCost\"] == 0].reset_index(drop=True)\n",
    "part4 = df.loc[df[\"NoDocbcCost\"] == 1].reset_index(drop=True)"
   ]
  },
  {
   "cell_type": "code",
   "execution_count": 204,
   "id": "7606f4c2",
   "metadata": {},
   "outputs": [
    {
     "name": "stdout",
     "output_type": "stream",
     "text": [
      "232326\n",
      "223384\n"
     ]
    }
   ],
   "source": [
    "count = part3[\"Stroke\"].count()\n",
    "print(count)\n",
    "mask = part3[\"Stroke\"].eq(0)\n",
    "count1 = mask.sum()\n",
    "print(count1)"
   ]
  },
  {
   "cell_type": "code",
   "execution_count": 205,
   "id": "5ff5ef9d",
   "metadata": {},
   "outputs": [
    {
     "data": {
      "image/png": "[encoded data removed]",
      "text/plain": [
       "<Figure size 432x288 with 1 Axes>"
      ]
     },
     "metadata": {},
     "output_type": "display_data"
    }
   ],
   "source": [
    "mask = part3[\"Stroke\"].eq(0)\n",
    "count1 = mask.sum()\n",
    "mask1 = part3[\"Stroke\"].eq(1)\n",
    "count2 = mask1.sum()\n",
    "values = [count1,count2]\n",
    "labels = ['Not had Stroke', 'Had Stroke']\n",
    "colors = ['red', 'green']\n",
    "\n",
    "plt.pie(values, labels=labels, autopct='%1.1f%%', colors=colors, explode=[0, 0.1])\n",
    "plt.legend(title='Groups')\n",
    "plt.show()"
   ]
  },
  {
   "cell_type": "code",
   "execution_count": 206,
   "id": "cde3a1ae",
   "metadata": {},
   "outputs": [
    {
     "data": {
      "image/png": "[encoded data removed]",
      "text/plain": [
       "<Figure size 432x288 with 1 Axes>"
      ]
     },
     "metadata": {},
     "output_type": "display_data"
    }
   ],
   "source": [
    "mask = part4[\"Stroke\"].eq(0)\n",
    "count1 = mask.sum()\n",
    "mask1 = part4[\"Stroke\"].eq(1)\n",
    "count2 = mask1.sum()\n",
    "values = [count1,count2]\n",
    "labels = ['Not had Stroke', 'Had Stroke']\n",
    "colors = ['red', 'green']\n",
    "\n",
    "plt.pie(values, labels=labels, autopct='%1.1f%%', colors=colors, explode=[0, 0.1])\n",
    "plt.legend(title='Groups')\n",
    "plt.show()"
   ]
  },
  {
   "cell_type": "code",
   "execution_count": 207,
   "id": "fe57f91e",
   "metadata": {},
   "outputs": [
    {
     "name": "stdout",
     "output_type": "stream",
     "text": [
      "t-test statistic: 0.024730986\n",
      "8.007397296410068e-11\n"
     ]
    }
   ],
   "source": [
    "#stroke vs NoDocbcCost\n",
    "t, p = kstest(part3[\"Stroke\"], part4[\"Stroke\"])\n",
    "print(f\"t-test statistic: {t:.9f}\")\n",
    "print(p)"
   ]
  },
  {
   "cell_type": "code",
   "execution_count": 208,
   "id": "713b8de8",
   "metadata": {},
   "outputs": [
    {
     "name": "stdout",
     "output_type": "stream",
     "text": [
      "(307.289132958584, 1.8750489229257827e-67, 2)\n"
     ]
    }
   ],
   "source": [
    "chisqt = pd.crosstab(df.Stroke, df.NoDocbcCost, margins=True)\n",
    "value = np.array([chisqt.iloc[0][0:5].values,\n",
    "                  chisqt.iloc[1][0:5].values])\n",
    "print(chi2_contingency(value)[0:3])"
   ]
  },
  {
   "cell_type": "code",
   "execution_count": 209,
   "id": "63ea5bf4",
   "metadata": {},
   "outputs": [
    {
     "name": "stdout",
     "output_type": "stream",
     "text": [
      "The people who had to see a doctor in the past 12 months but could not because of the cost are highly prone to strokes\n"
     ]
    }
   ],
   "source": [
    "if chi2_contingency(value)[1] < 0.05:\n",
    "    print('The people who had to see a doctor in the past 12 months but could not because of the cost are highly prone to strokes')\n",
    "else:\n",
    "    print('The people who had to see a doctor in the past 12 months but could not because of the cost are not highly prone to strokes')"
   ]
  },
  {
   "cell_type": "code",
   "execution_count": 210,
   "id": "41884a66",
   "metadata": {},
   "outputs": [
    {
     "name": "stdout",
     "output_type": "stream",
     "text": [
      "t-test statistic: 0.048980086\n",
      "5.023453503790034e-21\n"
     ]
    }
   ],
   "source": [
    "#stroke vs NoDocbcCost\n",
    "t, p = kstest(part1[\"NoDocbcCost\"], part2[\"NoDocbcCost\"])\n",
    "print(f\"t-test statistic: {t:.9f}\")\n",
    "print(p)"
   ]
  },
  {
   "cell_type": "code",
   "execution_count": 211,
   "id": "5d575870",
   "metadata": {},
   "outputs": [],
   "source": [
    "mask = (df['CholCheck'] == 1) & (df['PhysActivity'] == 1) & (df['Fruits'] == 1) & (df['Veggies'] == 1)\n",
    "df['Healthy'] = np.where(mask, 1, 0)"
   ]
  },
  {
   "cell_type": "code",
   "execution_count": 212,
   "id": "31930eb8",
   "metadata": {},
   "outputs": [
    {
     "data": {
      "image/png": "[encoded data removed]",
      "text/plain": [
       "<Figure size 432x288 with 1 Axes>"
      ]
     },
     "metadata": {},
     "output_type": "display_data"
    }
   ],
   "source": [
    "mask = df['Healthy'].eq(0)\n",
    "count1 = mask.sum()\n",
    "mask1 = df['Healthy'].eq(1)\n",
    "count2 = mask1.sum()\n",
    "values = [count1,count2]\n",
    "labels = ['Not had Stroke', 'Had Stroke']\n",
    "colors = ['red', 'green']\n",
    "\n",
    "plt.pie(values, labels=labels, autopct='%1.1f%%', colors=colors, explode=[0, 0.1])\n",
    "plt.legend(title='Groups')\n",
    "plt.show()"
   ]
  },
  {
   "cell_type": "code",
   "execution_count": 213,
   "id": "be82d0ca",
   "metadata": {},
   "outputs": [],
   "source": [
    "part5 = df.loc[df[\"Healthy\"] == 0].reset_index(drop=True)\n",
    "part6 = df.loc[df[\"Healthy\"] == 1].reset_index(drop=True)"
   ]
  },
  {
   "cell_type": "code",
   "execution_count": 214,
   "id": "1c0496c1",
   "metadata": {},
   "outputs": [
    {
     "data": {
      "image/png": "[encoded data removed]",
      "text/plain": [
       "<Figure size 432x288 with 1 Axes>"
      ]
     },
     "metadata": {
      "needs_background": "light"
     },
     "output_type": "display_data"
    }
   ],
   "source": [
    "sns.kdeplot(part5[\"Stroke\"], color='b', label='Part 5')\n",
    "sns.kdeplot(part6[\"Stroke\"], color='r', label='Part 6')\n",
    "\n",
    "plt.xlabel('Stroke')\n",
    "plt.ylabel('Probability density')\n",
    "plt.show()\n"
   ]
  },
  {
   "cell_type": "code",
   "execution_count": 215,
   "id": "5274d974",
   "metadata": {},
   "outputs": [
    {
     "name": "stdout",
     "output_type": "stream",
     "text": [
      "t-test statistic: 0.017393104\n",
      "6.794457303964631e-17\n"
     ]
    }
   ],
   "source": [
    "#stroke vs Healthy\n",
    "t, p = kstest(part5[\"Stroke\"], part6[\"Stroke\"])\n",
    "print(f\"t-test statistic: {t:.9f}\")\n",
    "print(p)"
   ]
  },
  {
   "cell_type": "code",
   "execution_count": 216,
   "id": "010e1e77",
   "metadata": {},
   "outputs": [
    {
     "name": "stdout",
     "output_type": "stream",
     "text": [
      "(486.92567342487973, 1.8426101845137378e-106, 2)\n"
     ]
    }
   ],
   "source": [
    "chisqt = pd.crosstab(df.Stroke, df.Healthy, margins=True)\n",
    "value = np.array([chisqt.iloc[0][0:5].values,\n",
    "                  chisqt.iloc[1][0:5].values])\n",
    "print(chi2_contingency(value)[0:3])"
   ]
  },
  {
   "cell_type": "code",
   "execution_count": 217,
   "id": "f8c57de8",
   "metadata": {},
   "outputs": [
    {
     "name": "stdout",
     "output_type": "stream",
     "text": [
      "The people with healthy life style considering given parameters like eating veggies, fruits, physical activiity and chol check are not more prone to strokes\n"
     ]
    }
   ],
   "source": [
    "if chi2_contingency(value)[1] < 0.05:\n",
    "    print('The people with healthy life style considering given parameters like eating veggies, fruits, physical activiity and chol check are not more prone to strokes')\n",
    "    #The people with healthy life style considering given parameters like eating veggies, fruits, physical activiity and chol check are less prone to strokes\n",
    "else:\n",
    "    print('The people with healthy life style considering given parameters like eating veggies, fruits, physical activiity and chol check are more prone to strokes')"
   ]
  },
  {
   "cell_type": "code",
   "execution_count": 244,
   "id": "6358bd35",
   "metadata": {},
   "outputs": [],
   "source": [
    "seed = random.seed(14628513)"
   ]
  },
  {
   "cell_type": "code",
   "execution_count": 219,
   "id": "10185167",
   "metadata": {},
   "outputs": [
    {
     "data": {
      "text/plain": [
       "HeartDiseaseorAttack    0.064621\n",
       "HighBP                  0.056456\n",
       "HighChol                0.062069\n",
       "CholCheck              -0.008366\n",
       "BMI                     0.085310\n",
       "Smoker                  0.092196\n",
       "Stroke                  0.070172\n",
       "Diabetes                0.073507\n",
       "PhysActivity           -0.125587\n",
       "Fruits                 -0.068217\n",
       "Veggies                -0.058884\n",
       "HvyAlcoholConsump       0.024716\n",
       "AnyHealthcare          -0.052707\n",
       "NoDocbcCost             0.192107\n",
       "GenHlth                 0.301674\n",
       "MentHlth                1.000000\n",
       "PhysHlth                0.353619\n",
       "DiffWalk                0.233688\n",
       "Sex                    -0.080705\n",
       "Age                    -0.092068\n",
       "Education              -0.101830\n",
       "Income                 -0.209806\n",
       "Healthy                -0.099730\n",
       "Name: MentHlth, dtype: float64"
      ]
     },
     "execution_count": 219,
     "metadata": {},
     "output_type": "execute_result"
    }
   ],
   "source": [
    "correlation_matrix=df.corr()\n",
    "correlation_matrix.iloc[15,:]"
   ]
  },
  {
   "cell_type": "code",
   "execution_count": 234,
   "id": "5c68ae5f",
   "metadata": {},
   "outputs": [
    {
     "name": "stdout",
     "output_type": "stream",
     "text": [
      "6.770221659168112\n",
      "0.1610611046820506\n"
     ]
    }
   ],
   "source": [
    "x = df[[\"DiffWalk\", \"PhysHlth\", \"GenHlth\", \"NoDocbcCost\"]]\n",
    "x.head()\n",
    "y = df[\"MentHlth\"]\n",
    "\n",
    "x_train, x_test, y_train, y_test = train_test_split(x, y, test_size=0.2, random_state=14628513)\n",
    "model = LinearRegression()\n",
    "model.fit(x, y)\n",
    "predictions = model.predict(x_test)\n",
    "rmse = np.sqrt(mean_squared_error(y_test, predictions))\n",
    "print(rmse)\n",
    "r_squared = model.score(x, y)\n",
    "print(r_squared)"
   ]
  },
  {
   "cell_type": "code",
   "execution_count": 235,
   "id": "7c09afab",
   "metadata": {},
   "outputs": [
    {
     "data": {
      "image/png": "[encoded data removed]",
      "text/plain": [
       "<Figure size 432x288 with 1 Axes>"
      ]
     },
     "metadata": {
      "needs_background": "light"
     },
     "output_type": "display_data"
    }
   ],
   "source": [
    "plt.scatter(y_test, predictions)\n",
    "z = np.polyfit(y_test, predictions, 1)\n",
    "p = np.poly1d(z)\n",
    "plt.plot(y_test, p(y_test), \"r--\")\n",
    "plt.xlabel(\"Actual values\")\n",
    "plt.ylabel(\"Predicted values\")\n",
    "plt.title(\"Best fit line for linear regression model\")\n",
    "plt.show()"
   ]
  },
  {
   "cell_type": "code",
   "execution_count": 226,
   "id": "756755f7",
   "metadata": {},
   "outputs": [
    {
     "name": "stdout",
     "output_type": "stream",
     "text": [
      "{'alpha': 21.412201548157228}\n"
     ]
    }
   ],
   "source": [
    "model = linear_model.Ridge()\n",
    "param_grid = {'alpha': (np.logspace(-8, 8, 500))}\n",
    "\n",
    "# Use GridSearchCV to find the best combination of hyperparameters\n",
    "grid = GridSearchCV(model, param_grid, cv=5)\n",
    "grid.fit(x_train, y_train)\n",
    "\n",
    "# Print the best hyperparameters\n",
    "print(grid.best_params_)"
   ]
  },
  {
   "cell_type": "code",
   "execution_count": 238,
   "id": "228e6478",
   "metadata": {},
   "outputs": [
    {
     "name": "stdout",
     "output_type": "stream",
     "text": [
      "6.770209977830018\n",
      "0.16106108398310226\n"
     ]
    }
   ],
   "source": [
    "model = linear_model.Ridge(alpha=21.412201548157228)\n",
    "model.fit(x, y)\n",
    "predictions = model.predict(x_test)\n",
    "rmse = np.sqrt(mean_squared_error(y_test, predictions))\n",
    "print(rmse)\n",
    "r_squared = model.score(x, y)\n",
    "print(r_squared)"
   ]
  },
  {
   "cell_type": "code",
   "execution_count": 239,
   "id": "66569745",
   "metadata": {},
   "outputs": [
    {
     "data": {
      "image/png": "[encoded data removed]",
      "text/plain": [
       "<Figure size 432x288 with 1 Axes>"
      ]
     },
     "metadata": {
      "needs_background": "light"
     },
     "output_type": "display_data"
    }
   ],
   "source": [
    "plt.scatter(y_test, predictions)\n",
    "z = np.polyfit(y_test, predictions, 1)\n",
    "p = np.poly1d(z)\n",
    "plt.plot(y_test, p(y_test), \"r--\")\n",
    "plt.xlabel(\"Actual values\")\n",
    "plt.ylabel(\"Predicted values\")\n",
    "plt.title(\"Best fit line for linear regression model(Ridge)\")\n",
    "plt.show()"
   ]
  },
  {
   "cell_type": "code",
   "execution_count": 228,
   "id": "899451a9",
   "metadata": {},
   "outputs": [
    {
     "name": "stdout",
     "output_type": "stream",
     "text": [
      "{'alpha': 1e-08}\n"
     ]
    }
   ],
   "source": [
    "model = linear_model.Lasso()\n",
    "param_grid = {'alpha': (np.logspace(-8, 8, 500))}\n",
    "\n",
    "# Use GridSearchCV to find the best combination of hyperparameters\n",
    "grid = GridSearchCV(model, param_grid, cv=5)\n",
    "grid.fit(x_train, y_train)\n",
    "\n",
    "# Print the best hyperparameters\n",
    "print(grid.best_params_)"
   ]
  },
  {
   "cell_type": "code",
   "execution_count": 240,
   "id": "4a738622",
   "metadata": {},
   "outputs": [
    {
     "name": "stdout",
     "output_type": "stream",
     "text": [
      "6.7702216590220115\n",
      "0.16106110468205048\n"
     ]
    }
   ],
   "source": [
    "model = linear_model.Lasso(alpha=1e-08)\n",
    "model.fit(x, y)\n",
    "predictions = model.predict(x_test)\n",
    "rmse = np.sqrt(mean_squared_error(y_test, predictions))\n",
    "print(rmse)\n",
    "r_squared = model.score(x, y)\n",
    "print(r_squared)"
   ]
  },
  {
   "cell_type": "code",
   "execution_count": 241,
   "id": "3108eebe",
   "metadata": {},
   "outputs": [
    {
     "data": {
      "image/png": "[encoded data removed]",
      "text/plain": [
       "<Figure size 432x288 with 1 Axes>"
      ]
     },
     "metadata": {
      "needs_background": "light"
     },
     "output_type": "display_data"
    }
   ],
   "source": [
    "plt.scatter(y_test, predictions)\n",
    "z = np.polyfit(y_test, predictions, 1)\n",
    "p = np.poly1d(z)\n",
    "plt.plot(y_test, p(y_test), \"r--\")\n",
    "plt.xlabel(\"Actual values\")\n",
    "plt.ylabel(\"Predicted values\")\n",
    "plt.title(\"Best fit line for linear regression model(Lasso)\")\n",
    "plt.show()"
   ]
  },
  {
   "cell_type": "code",
   "execution_count": null,
   "id": "ca5463da",
   "metadata": {},
   "outputs": [],
   "source": []
  }
 ],
 "metadata": {
  "kernelspec": {
   "display_name": "Python 3 (ipykernel)",
   "language": "python",
   "name": "python3"
  },
  "language_info": {
   "codemirror_mode": {
    "name": "ipython",
    "version": 3
   },
   "file_extension": ".py",
   "mimetype": "text/x-python",
   "name": "python",
   "nbconvert_exporter": "python",
   "pygments_lexer": "ipython3",
   "version": "3.9.12"
  }
 },
 "nbformat": 4,
 "nbformat_minor": 5
}
